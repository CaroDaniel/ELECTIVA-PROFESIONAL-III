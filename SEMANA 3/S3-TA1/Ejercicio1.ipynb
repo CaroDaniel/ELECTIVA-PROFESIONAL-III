{
 "cells": [
  {
   "cell_type": "markdown",
   "id": "d66e63a8",
   "metadata": {},
   "source": [
    "**Ejercicio1**"
   ]
  },
  {
   "cell_type": "code",
   "execution_count": null,
   "id": "497c0fd0",
   "metadata": {},
   "outputs": [],
   "source": [
    "import numpy as np\n",
    "import pandas as pd"
   ]
  },
  {
   "cell_type": "code",
   "execution_count": null,
   "id": "9fbcc45d",
   "metadata": {},
   "outputs": [],
   "source": [
    "mercadeo = np.array([2000, 1500, 1300, 1600])\n",
    "logistica = np.array([1800, 1600, 1200, 1600])"
   ]
  },
  {
   "cell_type": "code",
   "execution_count": null,
   "id": "9a1f845a",
   "metadata": {},
   "outputs": [],
   "source": []
  },
  {
   "cell_type": "code",
   "execution_count": null,
   "id": "07f58eab",
   "metadata": {},
   "outputs": [],
   "source": [
    "## AUTO-CALIFICADOR\n",
    "\n",
    "# Base variables\n",
    "mercadeo_test = np.array([2000, 1800, 1300])\n",
    "logistica_test = np.array([1100, 1900, 1600, 1500])\n",
    "# Respuestas 1800 og  y 1600 test\n",
    "\n",
    "# Caso 1: no existe la función.\n",
    "try:\n",
    "    promedio\n",
    "    assert type(promedio) == type(lambda:None)\n",
    "except:\n",
    "    raise NotImplementedError(\"No existe una función llamada promedio.\",)\n",
    "\n",
    "# Caso 2: la función es interrumpida por errores durante su ejecución.\n",
    "try:\n",
    "    promedio(mercadeo, logistica)\n",
    "    promedio(mercadeo_test, logistica_test)\n",
    "except:\n",
    "    raise RuntimeError(\"Tu función produce un error al ejecutarse.\")\n",
    "\n",
    "# Caso 3: no retorna un número\n",
    "assert type(promedio(mercadeo_test, logistica_test)) == np.float64, f\"Tu función debe retornar un valor de tipo {np.float64}.\"\n",
    "\n",
    "# Caso 4: respuesta explicita\n",
    "assert promedio(mercadeo_test, logistica_test) != 1800.0, \"Tu respuesta es incorrecta para una instancia diferente. Utiliza los parámetros.\"\n",
    "\n",
    "# Caso 5: procedimiento incorrecto\n",
    "assert promedio(mercadeo_test, logistica_test) <= 1600.0, \"Tu respuesta es incorrecta. Asegurate de cocatenar los arreglos y luego calcular un promedio.\"\n",
    "\n",
    "# Caso 6: retorna un numero distinto del esperado\n",
    "assert promedio(mercadeo_test, logistica_test) == 1600.0, \"Tu respuesta es incorrecta. Es posible que hayas omitido algún valor al realizar el cálculo.\"\n",
    "assert promedio(mercadeo, logistica) == 1575.0, \"Tu respuesta es incorrecta. Es posible que hayas omitido algún valor al realizar el cálculo.\"\n",
    "\n",
    "# Mensaje de felicitaciones\n",
    "print(\"Felicidades, realizaste este ejercicio correctamente.\")"
   ]
  }
 ],
 "metadata": {
  "language_info": {
   "name": "python"
  }
 },
 "nbformat": 4,
 "nbformat_minor": 5
}
