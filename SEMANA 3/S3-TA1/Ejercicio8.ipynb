{
 "cells": [
  {
   "cell_type": "markdown",
   "id": "fcf76f20",
   "metadata": {},
   "source": [
    "**Ejercicio8**"
   ]
  },
  {
   "cell_type": "code",
   "execution_count": 1,
   "id": "11b60deb",
   "metadata": {},
   "outputs": [],
   "source": [
    "import numpy as np\n",
    "import pandas as pd"
   ]
  },
  {
   "cell_type": "code",
   "execution_count": 2,
   "id": "62aaaddc",
   "metadata": {},
   "outputs": [],
   "source": [
    "# Esta celda no es modificable.\n",
    "\n",
    "alfabeto = ('A', 'B', 'C', 'D', 'E', 'F', 'G', 'H', 'I',\n",
    "            'J', 'K', 'L', 'M', 'N', 'Ñ', 'O', 'P', 'Q',\n",
    "            'R', 'S', 'T', 'U', 'V', 'W', 'X', 'Y', 'Z')"
   ]
  },
  {
   "cell_type": "code",
   "execution_count": 3,
   "id": "f05f751e",
   "metadata": {},
   "outputs": [],
   "source": [
    "def inicia_con(df):\n",
    "    conteo = {}\n",
    "    \n",
    "    for letra in alfabeto:\n",
    "        cantidad = df[\"País en inglés\"].str.startswith(letra).sum()\n",
    "        \n",
    "        conteo[letra] = int(cantidad)\n",
    "    \n",
    "    return conteo"
   ]
  },
  {
   "cell_type": "code",
   "execution_count": 4,
   "id": "e7a16861",
   "metadata": {},
   "outputs": [
    {
     "name": "stdout",
     "output_type": "stream",
     "text": [
      "Felicidades, realizaste este ejercicio correctamente.\n"
     ]
    }
   ],
   "source": [
    "## AUTO-CALIFICADOR\n",
    "\n",
    "# Base variables\n",
    "paises = pd.read_csv(\"./Archivos/DiccionarioPaises.csv\", encoding = \"UTF-8\", delimiter = \";\")\n",
    "nombre_columnas = ['País en español', 'País en inglés']\n",
    "alfabeto = ('A', 'B', 'C', 'D', 'E', 'F', 'G', 'H', 'I',\n",
    "            'J', 'K', 'L', 'M', 'N', 'Ñ', 'O', 'P', 'Q',\n",
    "            'R', 'S', 'T', 'U', 'V', 'W', 'X', 'Y', 'Z')\n",
    "\n",
    "# Caso 1: no existe la función.\n",
    "try:\n",
    "    inicia_con\n",
    "    assert type(inicia_con) == type(lambda:None)\n",
    "except:\n",
    "    raise NotImplementedError(\"No existe una función llamada inicia_con.\",)\n",
    "\n",
    "# Caso 2: la función es interrumpida por errores durante su ejecución.\n",
    "try:\n",
    "    inicia_con(paises)\n",
    "except:\n",
    "    raise RuntimeError(\"Tu función produce un error al ejecutarse.\")\n",
    "\n",
    "# Caso 3: no retorna un diccionario.\n",
    "assert type(inicia_con(paises)) == type({}), f\"Tu función debe retornar un objeto de tipo '{type({}).__name__}'.\"\n",
    "\n",
    "# Caso 4: Llaves son el abecedario\n",
    "assert tuple(inicia_con(paises).keys()) == alfabeto, \"Tu diccionario tiene llaves diferentes al abecedario.\"\n",
    "\n",
    "# Caso 5: Comparamos las que son iguales a cero y otros valores.\n",
    "try:\n",
    "    assert (inicia_con(paises).get('Ñ')) == 0\n",
    "    assert (inicia_con(paises).get('X')) == 0\n",
    "    assert (inicia_con(paises).get('B')) == 18\n",
    "    assert (inicia_con(paises).get('W')) == 1\n",
    "    assert (inicia_con(paises).get('S')) == 24\n",
    "\n",
    "except AssertionError as e:\n",
    "    e.args += (\"Tu respuesta es incorrecta. Revisa tu procedimiento\",)\n",
    "    raise e\n",
    "\n",
    "# Mensaje de felicitaciones\n",
    "print(\"Felicidades, realizaste este ejercicio correctamente.\")"
   ]
  }
 ],
 "metadata": {
  "kernelspec": {
   "display_name": "Python 3",
   "language": "python",
   "name": "python3"
  },
  "language_info": {
   "codemirror_mode": {
    "name": "ipython",
    "version": 3
   },
   "file_extension": ".py",
   "mimetype": "text/x-python",
   "name": "python",
   "nbconvert_exporter": "python",
   "pygments_lexer": "ipython3",
   "version": "3.12.1"
  }
 },
 "nbformat": 4,
 "nbformat_minor": 5
}
