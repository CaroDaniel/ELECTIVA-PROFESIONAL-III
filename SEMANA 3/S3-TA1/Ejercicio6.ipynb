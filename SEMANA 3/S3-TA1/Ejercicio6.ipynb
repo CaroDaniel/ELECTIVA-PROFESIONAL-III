{
 "cells": [
  {
   "cell_type": "markdown",
   "id": "746f0f8a",
   "metadata": {},
   "source": [
    "**Ejercicio6**"
   ]
  },
  {
   "cell_type": "code",
   "execution_count": 26,
   "id": "42d6c6c4",
   "metadata": {},
   "outputs": [],
   "source": [
    "import numpy as np\n",
    "import pandas as pd"
   ]
  },
  {
   "cell_type": "code",
   "execution_count": 27,
   "id": "607613f5",
   "metadata": {},
   "outputs": [
    {
     "data": {
      "text/html": [
       "<div>\n",
       "<style scoped>\n",
       "    .dataframe tbody tr th:only-of-type {\n",
       "        vertical-align: middle;\n",
       "    }\n",
       "\n",
       "    .dataframe tbody tr th {\n",
       "        vertical-align: top;\n",
       "    }\n",
       "\n",
       "    .dataframe thead th {\n",
       "        text-align: right;\n",
       "    }\n",
       "</style>\n",
       "<table border=\"1\" class=\"dataframe\">\n",
       "  <thead>\n",
       "    <tr style=\"text-align: right;\">\n",
       "      <th></th>\n",
       "      <th>País en español</th>\n",
       "      <th>País en inglés</th>\n",
       "    </tr>\n",
       "  </thead>\n",
       "  <tbody>\n",
       "    <tr>\n",
       "      <th>0</th>\n",
       "      <td>Afganistán</td>\n",
       "      <td>Afghanistan</td>\n",
       "    </tr>\n",
       "    <tr>\n",
       "      <th>1</th>\n",
       "      <td>Albania</td>\n",
       "      <td>Albania</td>\n",
       "    </tr>\n",
       "    <tr>\n",
       "      <th>2</th>\n",
       "      <td>Alemania</td>\n",
       "      <td>Germany</td>\n",
       "    </tr>\n",
       "    <tr>\n",
       "      <th>3</th>\n",
       "      <td>Andorra</td>\n",
       "      <td>Andorra</td>\n",
       "    </tr>\n",
       "    <tr>\n",
       "      <th>4</th>\n",
       "      <td>Angola</td>\n",
       "      <td>Angola</td>\n",
       "    </tr>\n",
       "  </tbody>\n",
       "</table>\n",
       "</div>"
      ],
      "text/plain": [
       "  País en español País en inglés\n",
       "0      Afganistán    Afghanistan\n",
       "1         Albania        Albania\n",
       "2        Alemania        Germany\n",
       "3         Andorra        Andorra\n",
       "4          Angola         Angola"
      ]
     },
     "execution_count": 27,
     "metadata": {},
     "output_type": "execute_result"
    }
   ],
   "source": [
    "# Esta celda no es modificable.\n",
    "\n",
    "paises = pd.read_csv(\"./Archivos/DiccionarioPaises.csv\", encoding = \"UTF-8\", delimiter = \";\")\n",
    "paises.head()"
   ]
  },
  {
   "cell_type": "code",
   "execution_count": 28,
   "id": "88134268",
   "metadata": {},
   "outputs": [],
   "source": [
    "def dif_longitud(df):\n",
    "    condicion = df[\"País en español\"].str.len() == df[\"País en inglés\"].str.len()\n",
    "    \n",
    "    df_filtrado = df[condicion]\n",
    "    \n",
    "    return df_filtrado[[\"País en español\", \"País en inglés\"]]"
   ]
  },
  {
   "cell_type": "code",
   "execution_count": 29,
   "id": "a7fc5843",
   "metadata": {},
   "outputs": [
    {
     "name": "stdout",
     "output_type": "stream",
     "text": [
      "Felicidades, realizaste este ejercicio correctamente.\n"
     ]
    }
   ],
   "source": [
    "## AUTO-CALIFICADOR\n",
    "\n",
    "# Base variables\n",
    "paises = pd.read_csv(\"./Archivos/DiccionarioPaises.csv\", encoding = \"UTF-8\", delimiter = \";\")\n",
    "nombre_columnas = ['País en español', 'País en inglés']\n",
    "\n",
    "# Caso 1: no existe la función.\n",
    "try:\n",
    "    dif_longitud\n",
    "    assert type(dif_longitud) == type(lambda:None)\n",
    "except:\n",
    "    raise NotImplementedError(\"No existe una función llamada dif_longitud.\",)\n",
    "\n",
    "# Caso 2: la función es interrumpida por errores durante su ejecución.\n",
    "try:\n",
    "    dif_longitud(paises)\n",
    "except:\n",
    "    raise RuntimeError(\"Tu función produce un error al ejecutarse.\")\n",
    "\n",
    "# Caso 3: no retorna un DataFrame.\n",
    "assert type(dif_longitud(paises)) == type(paises), f\"Tu función debe retornar un objeto de tipo {type(paises).__name__}.\"\n",
    "\n",
    "# Caso 4: devuelve un dataframe cuyas columnas tienen nombre distinto de lo esperado\n",
    "assert [*dif_longitud(paises).columns] == nombre_columnas, \"Tu función retorna un DataFrame con columnas cuyos nombres no coinciden con los de los datos del archivo. Asegurate de estar filtrando las columnas indicadas.\"\n",
    "\n",
    "# Caso 5: devuelve un dataframe con cantidad de filas errada.\n",
    "assert dif_longitud(paises).shape[0] == 127, \"Tu función retorna un DataFrame con cantidad de filas errada.\"\n",
    "\n",
    "# Caso 6: No elimina las filas correctas\n",
    "assert sum((dif_longitud(paises)['País en español']+dif_longitud(paises)['País en inglés']).apply(len) % 2) == 0, \"Tu función no elimina las filas correctas del DataFrame.\"\n",
    "\n",
    "\n",
    "# Mensaje de felicitaciones\n",
    "print(\"Felicidades, realizaste este ejercicio correctamente.\")"
   ]
  }
 ],
 "metadata": {
  "kernelspec": {
   "display_name": "Python 3",
   "language": "python",
   "name": "python3"
  },
  "language_info": {
   "codemirror_mode": {
    "name": "ipython",
    "version": 3
   },
   "file_extension": ".py",
   "mimetype": "text/x-python",
   "name": "python",
   "nbconvert_exporter": "python",
   "pygments_lexer": "ipython3",
   "version": "3.12.1"
  }
 },
 "nbformat": 4,
 "nbformat_minor": 5
}
