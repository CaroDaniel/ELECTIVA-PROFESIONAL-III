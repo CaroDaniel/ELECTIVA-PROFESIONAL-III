{
 "cells": [
  {
   "cell_type": "markdown",
   "id": "53e5c7c4",
   "metadata": {},
   "source": [
    "**Ejercicio3**"
   ]
  },
  {
   "cell_type": "code",
   "execution_count": 1,
   "id": "625ebb12",
   "metadata": {},
   "outputs": [],
   "source": [
    "import numpy as np\n",
    "import pandas as pd"
   ]
  },
  {
   "cell_type": "code",
   "execution_count": 2,
   "id": "69323f50",
   "metadata": {},
   "outputs": [
    {
     "data": {
      "text/html": [
       "<div>\n",
       "<style scoped>\n",
       "    .dataframe tbody tr th:only-of-type {\n",
       "        vertical-align: middle;\n",
       "    }\n",
       "\n",
       "    .dataframe tbody tr th {\n",
       "        vertical-align: top;\n",
       "    }\n",
       "\n",
       "    .dataframe thead th {\n",
       "        text-align: right;\n",
       "    }\n",
       "</style>\n",
       "<table border=\"1\" class=\"dataframe\">\n",
       "  <thead>\n",
       "    <tr style=\"text-align: right;\">\n",
       "      <th></th>\n",
       "      <th>Edad</th>\n",
       "      <th>Ciudad Residencia</th>\n",
       "      <th>Salario (en USD)</th>\n",
       "    </tr>\n",
       "  </thead>\n",
       "  <tbody>\n",
       "    <tr>\n",
       "      <th>Carlos</th>\n",
       "      <td>28</td>\n",
       "      <td>Bogotá</td>\n",
       "      <td>2000</td>\n",
       "    </tr>\n",
       "    <tr>\n",
       "      <th>David</th>\n",
       "      <td>37</td>\n",
       "      <td>Lima</td>\n",
       "      <td>3200</td>\n",
       "    </tr>\n",
       "    <tr>\n",
       "      <th>Ana</th>\n",
       "      <td>23</td>\n",
       "      <td>Bogotá</td>\n",
       "      <td>1700</td>\n",
       "    </tr>\n",
       "    <tr>\n",
       "      <th>Maria</th>\n",
       "      <td>25</td>\n",
       "      <td>Buenos Aires</td>\n",
       "      <td>1100</td>\n",
       "    </tr>\n",
       "    <tr>\n",
       "      <th>Felipe</th>\n",
       "      <td>43</td>\n",
       "      <td>Buenos Aires</td>\n",
       "      <td>3300</td>\n",
       "    </tr>\n",
       "    <tr>\n",
       "      <th>Luisa</th>\n",
       "      <td>58</td>\n",
       "      <td>Lima</td>\n",
       "      <td>5500</td>\n",
       "    </tr>\n",
       "    <tr>\n",
       "      <th>Juan</th>\n",
       "      <td>32</td>\n",
       "      <td>Bogotá</td>\n",
       "      <td>2700</td>\n",
       "    </tr>\n",
       "    <tr>\n",
       "      <th>Camila</th>\n",
       "      <td>35</td>\n",
       "      <td>Quito</td>\n",
       "      <td>2500</td>\n",
       "    </tr>\n",
       "  </tbody>\n",
       "</table>\n",
       "</div>"
      ],
      "text/plain": [
       "        Edad Ciudad Residencia  Salario (en USD)\n",
       "Carlos    28            Bogotá              2000\n",
       "David     37              Lima              3200\n",
       "Ana       23            Bogotá              1700\n",
       "Maria     25      Buenos Aires              1100\n",
       "Felipe    43      Buenos Aires              3300\n",
       "Luisa     58              Lima              5500\n",
       "Juan      32            Bogotá              2700\n",
       "Camila    35             Quito              2500"
      ]
     },
     "execution_count": 2,
     "metadata": {},
     "output_type": "execute_result"
    }
   ],
   "source": [
    "# Esta celda no es modificable.\n",
    "\n",
    "e1 = [ 28,\"Bogotá\", 2000]\n",
    "e2 = [ 37, \"Lima\", 3200 ]\n",
    "e3 = [ 23,\"Bogotá\", 1700]\n",
    "e4 = [ 25, \"Buenos Aires\", 1100 ]\n",
    "e5 = [ 43,\"Buenos Aires\", 3300]\n",
    "e6 = [ 58, \"Lima\", 5500 ]\n",
    "e7 = [ 32,\"Bogotá\", 2700]\n",
    "e8 = [ 35, \"Quito\", 2500 ]\n",
    "\n",
    "empleados = pd.DataFrame([e1,e2, e3, e4, e5, e6, e7, e8],\n",
    "                        index = [\"Carlos\", \"David\", \"Ana\", \"Maria\", \"Felipe\", \"Luisa\", \"Juan\", \"Camila\"],\n",
    "                        columns = [\"Edad\", \"Ciudad Residencia\", \"Salario (en USD)\"])\n",
    "empleados"
   ]
  },
  {
   "cell_type": "code",
   "execution_count": 6,
   "id": "f260ee69",
   "metadata": {},
   "outputs": [],
   "source": [
    "def ciudades(df):\n",
    "    return len(set(df[\"Ciudad Residencia\"]))"
   ]
  },
  {
   "cell_type": "code",
   "execution_count": 5,
   "id": "6797270c",
   "metadata": {},
   "outputs": [
    {
     "name": "stdout",
     "output_type": "stream",
     "text": [
      "Felicidades, realizaste este ejercicio correctamente.\n"
     ]
    }
   ],
   "source": [
    "## AUTO-CALIFICADOR\n",
    "\n",
    "# Test paremters\n",
    "e1 = [ 28,\"Quito\", 2000]\n",
    "e2 = [ 37, \"Lima\", 3200 ]\n",
    "e3 = [ 22,\"Bogotá\", 1700]\n",
    "e4 = [ 35, \"Santiago\", 1100]\n",
    "e5 = [ 41,\"Buenos Aires\", 3900]\n",
    "e6 = [ 58, \"Lima\", 5500]\n",
    "e7 = [ 22,\"Brasilia\", 2100]\n",
    "e8 = [ 35, \"Bogotá\", 2500]\n",
    "\n",
    "empleados_test = pd.DataFrame([e1,e2, e3, e4, e5, e6, e7, e8],\n",
    "                            index = [\"Carlos\", \"David\", \"Ana\", \"Maria\", \"Felipe\", \"Luisa\", \"Juan\", \"Camila\"],\n",
    "                            columns = [\"Edad\", \"Ciudad Residencia\", \"Salario (en USD)\"])\n",
    "\n",
    "# Caso 1: no existe la función.\n",
    "try:\n",
    "    ciudades\n",
    "    assert type(ciudades) == type(lambda:None)\n",
    "except:\n",
    "    raise NotImplementedError(\"No existe una función llamada ciudades.\")\n",
    "\n",
    "# Caso 2: la función es interrumpida por errores durante su ejecución.\n",
    "try:\n",
    "    ciudades(empleados)\n",
    "    ciudades(empleados_test)\n",
    "except:\n",
    "    raise RuntimeError(\"Tu función produce un error al ejecutarse.\")\n",
    "\n",
    "# Caso 3: no retorna un int\n",
    "assert type(ciudades(empleados_test)) == int, f\"Tu función debe retornar un objeto de tipo {int.__name__}.\"\n",
    "\n",
    "# Caso 4: respuesta explicita\n",
    "assert ciudades(empleados_test) != 4, \"Tu respuesta es incorrecta para una instancia diferente. Utiliza los parámetros.\"\n",
    "\n",
    "# Caso 5: Retorna el número de elementos de la columna 'Ciudad Residencia'\n",
    "assert ciudades(empleados_test) != 8, \"Tu respuesta es el número de elementos de la columna 'Ciudad Residencia'.\"\n",
    "\n",
    "# Caso 6: retorna un numero distinto del esperado\n",
    "assert ciudades(empleados_test) == 6, \"Tu respuesta es incorrecta.\"\n",
    "assert ciudades(empleados) == 4, \"Tu respuesta es incorrecta.\"\n",
    "\n",
    "# Mensaje de felicitaciones\n",
    "print(\"Felicidades, realizaste este ejercicio correctamente.\")"
   ]
  }
 ],
 "metadata": {
  "kernelspec": {
   "display_name": "Python 3",
   "language": "python",
   "name": "python3"
  },
  "language_info": {
   "codemirror_mode": {
    "name": "ipython",
    "version": 3
   },
   "file_extension": ".py",
   "mimetype": "text/x-python",
   "name": "python",
   "nbconvert_exporter": "python",
   "pygments_lexer": "ipython3",
   "version": "3.12.1"
  }
 },
 "nbformat": 4,
 "nbformat_minor": 5
}
