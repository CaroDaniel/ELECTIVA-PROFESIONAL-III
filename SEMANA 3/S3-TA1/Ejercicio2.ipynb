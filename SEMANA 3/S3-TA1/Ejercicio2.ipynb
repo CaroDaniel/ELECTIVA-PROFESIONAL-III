{
 "cells": [
  {
   "cell_type": "markdown",
   "id": "2a981411",
   "metadata": {},
   "source": [
    "**Ejercicio2**"
   ]
  },
  {
   "cell_type": "code",
   "execution_count": 2,
   "id": "1f5d9286",
   "metadata": {},
   "outputs": [],
   "source": [
    "import numpy as np\n",
    "import pandas as pd"
   ]
  },
  {
   "cell_type": "code",
   "execution_count": 3,
   "id": "16b3844b",
   "metadata": {},
   "outputs": [],
   "source": [
    "hermanos = pd.Series({\"Sonia\": 40, \"Patricia\": 42, \"Jorge\": 37, \"Alejandro\": 45, \"Aura\": 47, \"Carlos\": 40, \"Claudia\": 41, \"Victor\": 43})"
   ]
  },
  {
   "cell_type": "code",
   "execution_count": 4,
   "id": "3542cf17",
   "metadata": {},
   "outputs": [],
   "source": [
    "def mayores(serie):\n",
    "    return tuple(np.sort(serie.values)[-2:][::-1])"
   ]
  },
  {
   "cell_type": "code",
   "execution_count": 5,
   "id": "598da64b",
   "metadata": {},
   "outputs": [
    {
     "name": "stdout",
     "output_type": "stream",
     "text": [
      "Felicidades, realizaste este ejercicio correctamente.\n"
     ]
    }
   ],
   "source": [
    "## AUTO-CALIFICADOR\n",
    "\n",
    "# Base variables\n",
    "hermanos_test = pd.Series({\"Sonia\": 43, \"Patricia\": 46, \"Jorge\": 39, \"Alejandro\": 40, \"Aura\": 30, \"Carlos\": 41, \"Claudia\": 40})\n",
    "\n",
    "# Caso 1: no existe la función.\n",
    "try:\n",
    "    mayores\n",
    "    assert type(mayores) == type(lambda:None)\n",
    "except:\n",
    "    raise NotImplementedError(\"No existe una función llamada mayores.\",)\n",
    "\n",
    "# Caso 2: la función es interrumpida por errores durante su ejecución.\n",
    "try:\n",
    "    mayores(hermanos)\n",
    "    mayores(hermanos_test)\n",
    "except:\n",
    "    raise RuntimeError(\"Tu función produce un error al ejecutarse.\")\n",
    "\n",
    "# Caso 3: no retorna una lista\n",
    "assert type(mayores(hermanos_test)) == type((\"\",)), f\"Tu función debe retornar un objeto de tipo {type(tuple).__name__}.\"\n",
    "\n",
    "# Caso 4: tamaño incorrecto\n",
    "assert len(mayores(hermanos_test)) == 2, \"Tu función retorna una lista de un tamaño diferente al solicitado.\"\n",
    "\n",
    "# Caso 5: procedimiento incorrecto\n",
    "assert mayores(hermanos_test) != [47, 45], \"Tu respuesta es incorrecta para una instancia diferente. Utiliza los parámetros.\"\n",
    "\n",
    "# Caso 6: la lista no contiene todos los valores correctos\n",
    "try:\n",
    "    assert mayores(hermanos_test).count(46) >= 1\n",
    "    assert mayores(hermanos_test).count(43) >= 1\n",
    "except AssertionError as e:\n",
    "    e.args += (\"Tu respuesta no contiene la información solicitada.\",)\n",
    "    raise e\n",
    "\n",
    "# Caso 7: la lista es estrictamente correcta\n",
    "try:\n",
    "    assert mayores(hermanos_test)[0] == 46\n",
    "    assert mayores(hermanos_test)[1] == 43\n",
    "except AssertionError as e:\n",
    "    e.args += (\"Tu respuesta tiene un orden incorrecto.\",)\n",
    "    raise e\n",
    "\n",
    "# Caso 8: retorna un numero distinto del esperado\n",
    "assert mayores(hermanos) == (47, 45), \"Tu respuesta es incorrecta.\"\n",
    "\n",
    "# Mensaje de felicitaciones\n",
    "print(\"Felicidades, realizaste este ejercicio correctamente.\")"
   ]
  }
 ],
 "metadata": {
  "kernelspec": {
   "display_name": "Python 3",
   "language": "python",
   "name": "python3"
  },
  "language_info": {
   "codemirror_mode": {
    "name": "ipython",
    "version": 3
   },
   "file_extension": ".py",
   "mimetype": "text/x-python",
   "name": "python",
   "nbconvert_exporter": "python",
   "pygments_lexer": "ipython3",
   "version": "3.12.1"
  }
 },
 "nbformat": 4,
 "nbformat_minor": 5
}
