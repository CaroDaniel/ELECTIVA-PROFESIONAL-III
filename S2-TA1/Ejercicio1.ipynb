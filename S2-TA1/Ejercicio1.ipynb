{
 "cells": [
  {
   "cell_type": "markdown",
   "id": "9ceac2a8",
   "metadata": {},
   "source": [
    "Ejercicio 1"
   ]
  },
  {
   "cell_type": "code",
   "execution_count": null,
   "id": "e1b2db1a",
   "metadata": {},
   "outputs": [],
   "source": [
    "lista = [20, 12, 21.3, 34]"
   ]
  },
  {
   "cell_type": "code",
   "execution_count": 10,
   "id": "67a93fb6",
   "metadata": {},
   "outputs": [],
   "source": [
    "suma_lista = lambda lista: sum(lista)"
   ]
  },
  {
   "cell_type": "code",
   "execution_count": 11,
   "id": "2d8408e3",
   "metadata": {},
   "outputs": [
    {
     "name": "stdout",
     "output_type": "stream",
     "text": [
      "Felicidades, realizaste este ejercicio correctamente.\n"
     ]
    }
   ],
   "source": [
    "## AUTO-CALIFICADOR\n",
    "\n",
    "# Base variables\n",
    "lista = [20, 12, 21.3, 34]\n",
    "lista_prueba = [23.7, 15.1, 22.2, 21, 16.1, 24, 15.9]\n",
    "\n",
    "# Caso 1: no existe la función.\n",
    "try:\n",
    "    suma_lista\n",
    "    assert type(suma_lista) == type(lambda:None)\n",
    "except:\n",
    "    raise NotImplementedError(\"No existe una función llamada suma_lista.\",)\n",
    "    \n",
    "# Caso 2: la función es interrumpida por errores durante su ejecución.\n",
    "try:\n",
    "    suma_lista(lista)\n",
    "    suma_lista(lista_prueba)\n",
    "except:\n",
    "    raise RuntimeError(\"Tu función produce un error al ejecutarse.\")\n",
    "\n",
    "# Caso 3: no retorna un número\n",
    "assert type(suma_lista(lista_prueba)) == float, f\"Tu función debe retornar un valor de tipo {float.__name__}.\"\n",
    "\n",
    "# Caso 4: respuesta explicita\n",
    "assert suma_lista(lista_prueba) != 87.3, \"Tu respuesta es incorrecta para una instancia diferente. Utiliza el parámetro.\"\n",
    "\n",
    "# Caso 5: suma elemento por elemento\n",
    "assert suma_lista(lista_prueba) >= 138.0, \"Tu función puede no estar sumando todos los elementos de la lista.\"\n",
    "\n",
    "# Caso 6: retorna un numero distinto del esperado\n",
    "assert suma_lista(lista_prueba) == 138.0, \"Tu función no retorna el valor correcto.\"\n",
    "assert suma_lista(lista) == 87.3, \"Tu función no retorna el valor correcto.\"\n",
    "\n",
    "# Mensaje de felicitaciones\n",
    "print(\"Felicidades, realizaste este ejercicio correctamente.\")"
   ]
  }
 ],
 "metadata": {
  "kernelspec": {
   "display_name": "Python 3",
   "language": "python",
   "name": "python3"
  },
  "language_info": {
   "codemirror_mode": {
    "name": "ipython",
    "version": 3
   },
   "file_extension": ".py",
   "mimetype": "text/x-python",
   "name": "python",
   "nbconvert_exporter": "python",
   "pygments_lexer": "ipython3",
   "version": "3.12.1"
  }
 },
 "nbformat": 4,
 "nbformat_minor": 5
}
