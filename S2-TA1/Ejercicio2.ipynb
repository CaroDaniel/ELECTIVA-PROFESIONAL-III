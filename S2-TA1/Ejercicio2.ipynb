{
 "cells": [
  {
   "cell_type": "markdown",
   "id": "308b21d2",
   "metadata": {},
   "source": [
    "Ejercicio 2"
   ]
  },
  {
   "cell_type": "code",
   "execution_count": 1,
   "id": "873aa6f5",
   "metadata": {},
   "outputs": [],
   "source": [
    "lista = [23, \"2\", 46 , \"l\", 8.3, \"m\"]"
   ]
  },
  {
   "cell_type": "code",
   "execution_count": 65,
   "id": "1588237e",
   "metadata": {},
   "outputs": [],
   "source": [
    "def primera_letra(lista):\n",
    "    for i in lista:\n",
    "        if isinstance(i, str):\n",
    "            if i.isalpha():\n",
    "                return i\n",
    "    return \"\""
   ]
  },
  {
   "cell_type": "code",
   "execution_count": 66,
   "id": "58a35f83",
   "metadata": {},
   "outputs": [
    {
     "name": "stdout",
     "output_type": "stream",
     "text": [
      "Felicidades, realizaste este ejercicio correctamente.\n"
     ]
    }
   ],
   "source": [
    "## AUTO-CALIFICADOR\n",
    "\n",
    "# Base variables\n",
    "lista = [23, \"2\", 46 , \"l\", 8.3, \"m\"]\n",
    "lista_prueba = [23.7, \"15\", \"22.2\", 21, 48, \"x\", 24, 15.9, \"f\"]\n",
    "lista_prueba_2 = [23.7, \"15\", \"22.2\", 21, \"x\", 24, 15.9, \"f\"]\n",
    "lista_prueba_3 = [23.7, \"15\", \"22.2\", 21, 24, 15.9]\n",
    "\n",
    "# Caso 1: no existe la función.\n",
    "try:\n",
    "    primera_letra\n",
    "    assert type(primera_letra) == type(lambda:None)\n",
    "except:\n",
    "    raise NotImplementedError(\"No existe una función llamada primera_letra.\",)\n",
    "    \n",
    "# Caso 2: la función es interrumpida por errores durante su ejecución.\n",
    "try:\n",
    "    primera_letra(lista)\n",
    "    primera_letra(lista_prueba)\n",
    "    primera_letra(lista_prueba_2)\n",
    "    primera_letra(lista_prueba_3)\n",
    "except:\n",
    "    raise RuntimeError(\"Tu función produce un error al ejecutarse.\")\n",
    "    \n",
    "# Caso 3: no retorna una letra\n",
    "assert type(primera_letra(lista_prueba)) == str, f\"Tu función debe retornar un valor de tipo {str.__name__}.\"\n",
    "\n",
    "# Caso 4: respuesta explicita\n",
    "assert primera_letra(lista_prueba) != \"l\", \"Tu respuesta es incorrecta para para una instancia diferente. Utiliza el parámetro.\"\n",
    "\n",
    "# Caso 5: la función retorna vacio\n",
    "assert primera_letra(lista_prueba_3) == \"\", \"Tu función debe retornar una cadena de texto vacía cuando no hay una letra en la lista.\"\n",
    "\n",
    "# Caso 6: no encuentra letras.\n",
    "assert primera_letra(lista_prueba) != \"\", \"Tu función no encuentra una letra en la lista. Puede no estar explorando todos sus elementos.\"\n",
    "\n",
    "# Caso 7: retorna una letra distinta de la esperada\n",
    "assert primera_letra(lista_prueba) == \"x\", \"Tu función no retorna la letra correcta.\"\n",
    "assert primera_letra(lista) == \"l\", \"Tu función no retorna la letra correcta.\"\n",
    "\n",
    "# Mensaje de felicitaciones\n",
    "print(\"Felicidades, realizaste este ejercicio correctamente.\")"
   ]
  }
 ],
 "metadata": {
  "kernelspec": {
   "display_name": "Python 3",
   "language": "python",
   "name": "python3"
  },
  "language_info": {
   "codemirror_mode": {
    "name": "ipython",
    "version": 3
   },
   "file_extension": ".py",
   "mimetype": "text/x-python",
   "name": "python",
   "nbconvert_exporter": "python",
   "pygments_lexer": "ipython3",
   "version": "3.12.1"
  }
 },
 "nbformat": 4,
 "nbformat_minor": 5
}
