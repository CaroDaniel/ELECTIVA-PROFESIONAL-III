{
 "cells": [
  {
   "cell_type": "markdown",
   "id": "8cf2e13c",
   "metadata": {},
   "source": [
    "Ejercicio 5"
   ]
  },
  {
   "cell_type": "code",
   "execution_count": 51,
   "id": "d985eae8",
   "metadata": {},
   "outputs": [],
   "source": [
    "lista = [3, 4, 2, 5, 5, 6, 3]"
   ]
  },
  {
   "cell_type": "code",
   "execution_count": 54,
   "id": "06576fa5",
   "metadata": {},
   "outputs": [],
   "source": [
    "def modulo_del_minimo(lista):\n",
    "    lista_ordenada = sorted(lista)\n",
    "\n",
    "    for i in lista_ordenada:\n",
    "        if lista.count(i) > 1:\n",
    "            min_val_rep = i\n",
    "            break\n",
    "    return lambda x: min_val_rep % x"
   ]
  },
  {
   "cell_type": "code",
   "execution_count": 55,
   "id": "cb3c1acd",
   "metadata": {},
   "outputs": [
    {
     "name": "stdout",
     "output_type": "stream",
     "text": [
      "Felicidades, realizaste este ejercicio correctamente.\n"
     ]
    }
   ],
   "source": [
    "## AUTO-CALIFICADOR\n",
    "\n",
    "# Base variables:\n",
    "lista = [3, 4, 2, 5, 5, 6, 3]\n",
    "lista_prueba = [6, 7, 4, 5, 8, 12, 15, 15, 8]\n",
    "\n",
    "# Caso 1: no existe la función.\n",
    "try:\n",
    "    modulo_del_minimo\n",
    "    assert type(modulo_del_minimo) == type(lambda:None)\n",
    "except:\n",
    "    raise NotImplementedError(\"No existe una función llamada modulo_del_minimo.\")\n",
    "\n",
    "# Caso 2: la función es interrumpida por errores durante su ejecución.\n",
    "try:\n",
    "    modulo_del_minimo(lista)\n",
    "    modulo_del_minimo(lista_prueba)\n",
    "except:\n",
    "    raise RuntimeError(\"Tu función produce un error al ejecutarse.\")\n",
    "    \n",
    "# Caso 3: la función no retorna una función anónima\n",
    "try:\n",
    "    assert type(modulo_del_minimo(lista_prueba)) == type(lambda:None)\n",
    "    assert str(modulo_del_minimo(lista_prueba)).find(\"lambda\") > -1\n",
    "except:\n",
    "    raise TypeError(\"Tu función debe retornar una función anónima (de tipo lambda).\")\n",
    "    \n",
    "# Caso 4: la función anónima retornada es interrumpida por errores durante su ejecución.\n",
    "try:\n",
    "    for i in range(100):\n",
    "        modulo_del_minimo(lista)(i + 1)\n",
    "        modulo_del_minimo(lista_prueba)(i + 1)\n",
    "except:\n",
    "    raise RuntimeError(\"Se produce un error al ejecutar la función anónima que retorna tu función.\")\n",
    "    \n",
    "# Caso 5: la función anónima retornada retorna algo distinto de un entero.\n",
    "assert type(modulo_del_minimo(lista_prueba)(7)) == int, f\"La función anónima que retorna tu función debería retornar un valor de tipo {type(0)}.\"\n",
    "    \n",
    "# Caso 6: el sentido del cálculo del residuo es incorrecto.\n",
    "try:\n",
    "    assert modulo_del_minimo(lista_prueba)(0) != 0\n",
    "except AssertionError as e:\n",
    "    raise ArithmeticError(\"La función anónima que retorna tu función calcula el residuo de la división de manera incorrecta. Prueba cambiar el orden de los elementos alrededor del operador '%'\",)\n",
    "except ZeroDivisionError as e:\n",
    "    pass\n",
    "    \n",
    "# Caso 7: no identifica el menor elemento que se repite correctamente.\n",
    "try:\n",
    "    assert modulo_del_minimo(lista)(float(\"inf\")) == 3\n",
    "    assert modulo_del_minimo(lista_prueba)(float(\"inf\")) == 8\n",
    "except AssertionError as e:\n",
    "    e.args += (\"La función anónima que retorna tu función utiliza un valor inesperado en lugar del mínimo valor repetido en la lista.\",)\n",
    "    raise e\n",
    "    \n",
    "# Caso 8: diversos casos\n",
    "try:\n",
    "    assert modulo_del_minimo(lista_prueba)(4) == 0\n",
    "    assert modulo_del_minimo(lista_prueba)(5) == 3\n",
    "    assert modulo_del_minimo(lista_prueba)(8) == 0\n",
    "    assert modulo_del_minimo(lista_prueba)(15) == 8\n",
    "    assert modulo_del_minimo(lista)(3) == 0\n",
    "    assert modulo_del_minimo(lista)(5) == 3\n",
    "except AssertionError as e:\n",
    "    e.args += (\"Tu función retorna una función anónima incorrecta.\",)\n",
    "    raise e\n",
    "    \n",
    "# Mensaje de felicitaciones\n",
    "print(\"Felicidades, realizaste este ejercicio correctamente.\")"
   ]
  }
 ],
 "metadata": {
  "kernelspec": {
   "display_name": "Python 3",
   "language": "python",
   "name": "python3"
  },
  "language_info": {
   "codemirror_mode": {
    "name": "ipython",
    "version": 3
   },
   "file_extension": ".py",
   "mimetype": "text/x-python",
   "name": "python",
   "nbconvert_exporter": "python",
   "pygments_lexer": "ipython3",
   "version": "3.12.1"
  }
 },
 "nbformat": 4,
 "nbformat_minor": 5
}
