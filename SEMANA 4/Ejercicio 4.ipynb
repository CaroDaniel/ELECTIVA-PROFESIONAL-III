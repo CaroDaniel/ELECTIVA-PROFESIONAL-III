{
 "cells": [
  {
   "cell_type": "markdown",
   "id": "e912c852",
   "metadata": {},
   "source": [
    "**Ejercicio 4**"
   ]
  },
  {
   "cell_type": "code",
   "execution_count": 14,
   "id": "ce2e749f",
   "metadata": {},
   "outputs": [],
   "source": [
    "import numpy as np\n",
    "import pandas as pd\n",
    "from sklearn.model_selection import train_test_split\n",
    "from sklearn.linear_model import LinearRegression\n",
    "import numpy.testing as npt"
   ]
  },
  {
   "cell_type": "code",
   "execution_count": 15,
   "id": "7dd193c8",
   "metadata": {},
   "outputs": [
    {
     "name": "stderr",
     "output_type": "stream",
     "text": [
      "/home/codespace/.local/lib/python3.12/site-packages/sklearn/base.py:440: InconsistentVersionWarning: Trying to unpickle estimator LinearRegression from version 0.22.2.post1 when using version 1.7.0. This might lead to breaking code or invalid results. Use at your own risk. For more info please refer to:\n",
      "https://scikit-learn.org/stable/model_persistence.html#security-maintainability-limitations\n",
      "  warnings.warn(\n"
     ]
    }
   ],
   "source": [
    "import pickle\n",
    "\n",
    "modelo = pickle.load(open(\"Archivos/modeloTaller\", 'rb'))\n",
    "\n",
    "datos = (pd.DataFrame({\"x1\":[6,  8,  6,  4,  5,  7,  8],\n",
    "                    \"x2\":[3,  1,  2,  2,  1,  4,  5],\n",
    "                    \"x3\":[22, 35, 41, 3,  18, 18, 9]}),\n",
    "        pd.DataFrame({\"x1\":[7,  6,  5,  3,  5],\n",
    "                    \"x2\":[5,  4,  4,  4,  4],\n",
    "                    \"x3\":[47, 50, 11, 42, 1]}),\n",
    "        pd.Series([9,  1, 5, 3, 9, 9, 6]),\n",
    "        pd.Series([10, 3, 7, 6, 8]))"
   ]
  },
  {
   "cell_type": "code",
   "execution_count": 16,
   "id": "649b8b69",
   "metadata": {},
   "outputs": [],
   "source": [
    "def predecir(modelo, datos):\n",
    "    x_train, x_test, y_train, y_test = datos\n",
    "    y_pred = modelo.predict(x_test)\n",
    "    return np.array(y_pred)"
   ]
  },
  {
   "cell_type": "code",
   "execution_count": 17,
   "id": "47e68b13",
   "metadata": {},
   "outputs": [
    {
     "ename": "RuntimeError",
     "evalue": "Tu función produce un error al ejecutarse.",
     "output_type": "error",
     "traceback": [
      "\u001b[31m---------------------------------------------------------------------------\u001b[39m",
      "\u001b[31mAttributeError\u001b[39m                            Traceback (most recent call last)",
      "\u001b[36mCell\u001b[39m\u001b[36m \u001b[39m\u001b[32mIn[17]\u001b[39m\u001b[32m, line 27\u001b[39m\n\u001b[32m     26\u001b[39m \u001b[38;5;28;01mtry\u001b[39;00m:\n\u001b[32m---> \u001b[39m\u001b[32m27\u001b[39m     \u001b[43mpredecir\u001b[49m\u001b[43m(\u001b[49m\u001b[43mmodelo\u001b[49m\u001b[43m,\u001b[49m\u001b[43m \u001b[49m\u001b[43mdatos\u001b[49m\u001b[43m)\u001b[49m\n\u001b[32m     28\u001b[39m     \u001b[38;5;66;03m#crear_modelo(archivo_test)\u001b[39;00m\n",
      "\u001b[36mCell\u001b[39m\u001b[36m \u001b[39m\u001b[32mIn[16]\u001b[39m\u001b[32m, line 3\u001b[39m, in \u001b[36mpredecir\u001b[39m\u001b[34m(modelo, datos)\u001b[39m\n\u001b[32m      2\u001b[39m x_train, x_test, y_train, y_test = datos\n\u001b[32m----> \u001b[39m\u001b[32m3\u001b[39m y_pred = \u001b[43mmodelo\u001b[49m\u001b[43m.\u001b[49m\u001b[43mpredict\u001b[49m\u001b[43m(\u001b[49m\u001b[43mx_test\u001b[49m\u001b[43m)\u001b[49m\n\u001b[32m      4\u001b[39m \u001b[38;5;28;01mreturn\u001b[39;00m np.array(y_pred)\n",
      "\u001b[36mFile \u001b[39m\u001b[32m~/.local/lib/python3.12/site-packages/sklearn/linear_model/_base.py:298\u001b[39m, in \u001b[36mLinearModel.predict\u001b[39m\u001b[34m(self, X)\u001b[39m\n\u001b[32m    285\u001b[39m \u001b[38;5;250m\u001b[39m\u001b[33;03m\"\"\"\u001b[39;00m\n\u001b[32m    286\u001b[39m \u001b[33;03mPredict using the linear model.\u001b[39;00m\n\u001b[32m    287\u001b[39m \n\u001b[32m   (...)\u001b[39m\u001b[32m    296\u001b[39m \u001b[33;03m    Returns predicted values.\u001b[39;00m\n\u001b[32m    297\u001b[39m \u001b[33;03m\"\"\"\u001b[39;00m\n\u001b[32m--> \u001b[39m\u001b[32m298\u001b[39m \u001b[38;5;28;01mreturn\u001b[39;00m \u001b[38;5;28;43mself\u001b[39;49m\u001b[43m.\u001b[49m\u001b[43m_decision_function\u001b[49m\u001b[43m(\u001b[49m\u001b[43mX\u001b[49m\u001b[43m)\u001b[49m\n",
      "\u001b[36mFile \u001b[39m\u001b[32m~/.local/lib/python3.12/site-packages/sklearn/linear_model/_base.py:275\u001b[39m, in \u001b[36mLinearModel._decision_function\u001b[39m\u001b[34m(self, X)\u001b[39m\n\u001b[32m    274\u001b[39m \u001b[38;5;28;01mdef\u001b[39;00m\u001b[38;5;250m \u001b[39m\u001b[34m_decision_function\u001b[39m(\u001b[38;5;28mself\u001b[39m, X):\n\u001b[32m--> \u001b[39m\u001b[32m275\u001b[39m     \u001b[43mcheck_is_fitted\u001b[49m\u001b[43m(\u001b[49m\u001b[38;5;28;43mself\u001b[39;49m\u001b[43m)\u001b[49m\n\u001b[32m    277\u001b[39m     X = validate_data(\u001b[38;5;28mself\u001b[39m, X, accept_sparse=[\u001b[33m\"\u001b[39m\u001b[33mcsr\u001b[39m\u001b[33m\"\u001b[39m, \u001b[33m\"\u001b[39m\u001b[33mcsc\u001b[39m\u001b[33m\"\u001b[39m, \u001b[33m\"\u001b[39m\u001b[33mcoo\u001b[39m\u001b[33m\"\u001b[39m], reset=\u001b[38;5;28;01mFalse\u001b[39;00m)\n",
      "\u001b[36mFile \u001b[39m\u001b[32m~/.local/lib/python3.12/site-packages/sklearn/utils/validation.py:1748\u001b[39m, in \u001b[36mcheck_is_fitted\u001b[39m\u001b[34m(estimator, attributes, msg, all_or_any)\u001b[39m\n\u001b[32m   1746\u001b[39m     \u001b[38;5;28;01mraise\u001b[39;00m \u001b[38;5;167;01mTypeError\u001b[39;00m(\u001b[33m\"\u001b[39m\u001b[38;5;132;01m%s\u001b[39;00m\u001b[33m is not an estimator instance.\u001b[39m\u001b[33m\"\u001b[39m % (estimator))\n\u001b[32m-> \u001b[39m\u001b[32m1748\u001b[39m tags = \u001b[43mget_tags\u001b[49m\u001b[43m(\u001b[49m\u001b[43mestimator\u001b[49m\u001b[43m)\u001b[49m\n\u001b[32m   1750\u001b[39m \u001b[38;5;28;01mif\u001b[39;00m \u001b[38;5;129;01mnot\u001b[39;00m tags.requires_fit \u001b[38;5;129;01mand\u001b[39;00m attributes \u001b[38;5;129;01mis\u001b[39;00m \u001b[38;5;28;01mNone\u001b[39;00m:\n",
      "\u001b[36mFile \u001b[39m\u001b[32m~/.local/lib/python3.12/site-packages/sklearn/utils/_tags.py:325\u001b[39m, in \u001b[36mget_tags\u001b[39m\u001b[34m(estimator)\u001b[39m\n\u001b[32m    324\u001b[39m \u001b[38;5;28;01mtry\u001b[39;00m:\n\u001b[32m--> \u001b[39m\u001b[32m325\u001b[39m     tags = \u001b[43mestimator\u001b[49m\u001b[43m.\u001b[49m\u001b[43m__sklearn_tags__\u001b[49m\u001b[43m(\u001b[49m\u001b[43m)\u001b[49m\n\u001b[32m    326\u001b[39m \u001b[38;5;28;01mexcept\u001b[39;00m \u001b[38;5;167;01mAttributeError\u001b[39;00m \u001b[38;5;28;01mas\u001b[39;00m exc:\n\u001b[32m    327\u001b[39m     \u001b[38;5;66;03m# TODO(1.8): turn the warning into an error\u001b[39;00m\n",
      "\u001b[36mFile \u001b[39m\u001b[32m~/.local/lib/python3.12/site-packages/sklearn/linear_model/_base.py:711\u001b[39m, in \u001b[36mLinearRegression.__sklearn_tags__\u001b[39m\u001b[34m(self)\u001b[39m\n\u001b[32m    710\u001b[39m tags = \u001b[38;5;28msuper\u001b[39m().__sklearn_tags__()\n\u001b[32m--> \u001b[39m\u001b[32m711\u001b[39m tags.input_tags.sparse = \u001b[38;5;129;01mnot\u001b[39;00m \u001b[38;5;28;43mself\u001b[39;49m\u001b[43m.\u001b[49m\u001b[43mpositive\u001b[49m\n\u001b[32m    712\u001b[39m \u001b[38;5;28;01mreturn\u001b[39;00m tags\n",
      "\u001b[31mAttributeError\u001b[39m: 'LinearRegression' object has no attribute 'positive'",
      "\nDuring handling of the above exception, another exception occurred:\n",
      "\u001b[31mRuntimeError\u001b[39m                              Traceback (most recent call last)",
      "\u001b[36mCell\u001b[39m\u001b[36m \u001b[39m\u001b[32mIn[17]\u001b[39m\u001b[32m, line 30\u001b[39m\n\u001b[32m     28\u001b[39m     \u001b[38;5;66;03m#crear_modelo(archivo_test)\u001b[39;00m\n\u001b[32m     29\u001b[39m \u001b[38;5;28;01mexcept\u001b[39;00m:\n\u001b[32m---> \u001b[39m\u001b[32m30\u001b[39m     \u001b[38;5;28;01mraise\u001b[39;00m \u001b[38;5;167;01mRuntimeError\u001b[39;00m(\u001b[33m\"\u001b[39m\u001b[33mTu función produce un error al ejecutarse.\u001b[39m\u001b[33m\"\u001b[39m)\n\u001b[32m     32\u001b[39m \u001b[38;5;66;03m# Caso 3: no retorna un arreglo.\u001b[39;00m\n\u001b[32m     33\u001b[39m \u001b[38;5;28;01massert\u001b[39;00m \u001b[38;5;28mtype\u001b[39m(predecir(modelo, datos)) == np.ndarray, \u001b[33mf\u001b[39m\u001b[33m\"\u001b[39m\u001b[33mTu función debe retornar un objeto de tipo \u001b[39m\u001b[33m'\u001b[39m\u001b[38;5;132;01m{\u001b[39;00mnp.ndarray.\u001b[34m__name__\u001b[39m\u001b[38;5;132;01m}\u001b[39;00m\u001b[33m'\u001b[39m\u001b[33m.\u001b[39m\u001b[33m\"\u001b[39m\n",
      "\u001b[31mRuntimeError\u001b[39m: Tu función produce un error al ejecutarse."
     ]
    }
   ],
   "source": [
    "## AUTO-CALIFICADOR\n",
    "\n",
    "# Base variables\n",
    "modelo = pickle.load(open(\"Archivos/modeloTaller\", 'rb'))\n",
    "datos = (pd.DataFrame({\"x1\":[6,  8,  6,  4,  5,  7,  8],\n",
    "                    \"x2\":[3,  1,  2,  2,  1,  4,  5],\n",
    "                    \"x3\":[22, 35, 41, 3,  18, 18, 9]}),\n",
    "        pd.DataFrame({\"x1\":[7,  6,  5,  3,  5],\n",
    "                    \"x2\":[5,  4,  4,  4,  4],\n",
    "                    \"x3\":[47, 50, 11, 42, 1]}),\n",
    "        pd.Series([9,  1, 5, 3, 9, 9, 6]),\n",
    "        pd.Series([10, 3, 7, 6, 8]))\n",
    "archivo = pd.read_excel(\"Archivos/datosTaller.xlsx\")\n",
    "archivo_test = pd.read_excel(\"Archivos/datosTallerTest.xlsx\")\n",
    "datos_test = (pd.DataFrame(archivo)[pd.DataFrame(archivo).columns[1:]], pd.DataFrame(archivo)[pd.DataFrame(archivo).columns[0]])\n",
    "datos_test = train_test_split(datos_test[0], datos_test[1], random_state=0)\n",
    "\n",
    "# Caso 1: no existe la función.\n",
    "try:\n",
    "    predecir\n",
    "    assert type(predecir) == type(lambda:None)\n",
    "except:\n",
    "    raise NotImplementedError(\"No existe una función llamada predecir.\",)\n",
    "    \n",
    "# Caso 2: la función es interrumpida por errores durante su ejecución.\n",
    "try:\n",
    "    predecir(modelo, datos)\n",
    "    #crear_modelo(archivo_test)\n",
    "except:\n",
    "    raise RuntimeError(\"Tu función produce un error al ejecutarse.\")\n",
    "\n",
    "# Caso 3: no retorna un arreglo.\n",
    "assert type(predecir(modelo, datos)) == np.ndarray, f\"Tu función debe retornar un objeto de tipo '{np.ndarray.__name__}'.\"\n",
    "\n",
    "# Caso 4: respuesta len()\n",
    "assert len(predecir(modelo, datos)) == 5, \"La longitud del arreglo con los datos dados es incorrecta.\"\n",
    "\n",
    "# Caso 5: respuesta incorrecta\n",
    "try:\n",
    "    npt.assert_approx_equal(predecir(modelo, datos).mean(), 10.627099878205998)\n",
    "    npt.assert_approx_equal(predecir(modelo, datos)[3], 13.866931147214054)\n",
    "    npt.assert_approx_equal(predecir(modelo, datos)[1], 10.803128182847708)\n",
    "except AssertionError as e:\n",
    "    e.args += (\"Los valores de la solución son incorrectos, revisa la implementación de la función.\",)\n",
    "    raise e\n",
    "\n",
    "# Caso 6: procedimiento incorrecto\n",
    "try:\n",
    "    npt.assert_approx_equal(predecir(modelo, datos_test).mean(), 6.888353715429375)\n",
    "    npt.assert_approx_equal(predecir(modelo, datos_test)[3], 9.123287939544587)\n",
    "    npt.assert_approx_equal(predecir(modelo, datos_test)[1], 6.917762337875083)\n",
    "except AssertionError as e:\n",
    "    e.args += (\"Los valores de la solución son incorrectos para una instancia diferente de los datos.\",)\n",
    "    raise e\n",
    "\n",
    "# Mensaje de felicitaciones\n",
    "print(\"Felicidades, realizaste este ejercicio correctamente.\")"
   ]
  }
 ],
 "metadata": {
  "kernelspec": {
   "display_name": "Python 3",
   "language": "python",
   "name": "python3"
  },
  "language_info": {
   "codemirror_mode": {
    "name": "ipython",
    "version": 3
   },
   "file_extension": ".py",
   "mimetype": "text/x-python",
   "name": "python",
   "nbconvert_exporter": "python",
   "pygments_lexer": "ipython3",
   "version": "3.12.1"
  }
 },
 "nbformat": 4,
 "nbformat_minor": 5
}
