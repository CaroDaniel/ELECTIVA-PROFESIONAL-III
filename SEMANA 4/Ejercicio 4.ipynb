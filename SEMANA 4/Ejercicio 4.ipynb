{
 "cells": [
  {
   "cell_type": "markdown",
   "id": "e912c852",
   "metadata": {},
   "source": [
    "**Ejercicio 4**"
   ]
  },
  {
   "cell_type": "code",
   "execution_count": null,
   "id": "ce2e749f",
   "metadata": {},
   "outputs": [],
   "source": [
    "import numpy as np\n",
    "import pandas as pd\n",
    "from sklearn.model_selection import train_test_split\n",
    "from sklearn.linear_model import LinearRegression"
   ]
  },
  {
   "cell_type": "code",
   "execution_count": null,
   "id": "7dd193c8",
   "metadata": {},
   "outputs": [],
   "source": [
    "import pickle\n",
    "\n",
    "modelo = pickle.load(open(\"Archivos/modeloTaller\", 'rb'))\n",
    "\n",
    "datos = (pd.DataFrame({\"x1\":[6,  8,  6,  4,  5,  7,  8],\n",
    "                    \"x2\":[3,  1,  2,  2,  1,  4,  5],\n",
    "                    \"x3\":[22, 35, 41, 3,  18, 18, 9]}),\n",
    "        pd.DataFrame({\"x1\":[7,  6,  5,  3,  5],\n",
    "                    \"x2\":[5,  4,  4,  4,  4],\n",
    "                    \"x3\":[47, 50, 11, 42, 1]}),\n",
    "        pd.Series([9,  1, 5, 3, 9, 9, 6]),\n",
    "        pd.Series([10, 3, 7, 6, 8]))"
   ]
  },
  {
   "cell_type": "code",
   "execution_count": null,
   "id": "649b8b69",
   "metadata": {},
   "outputs": [],
   "source": []
  },
  {
   "cell_type": "code",
   "execution_count": null,
   "id": "47e68b13",
   "metadata": {},
   "outputs": [],
   "source": [
    "## AUTO-CALIFICADOR\n",
    "\n",
    "# Base variables\n",
    "modelo = pickle.load(open(\"Archivos/modeloTaller\", 'rb'))\n",
    "datos = (pd.DataFrame({\"x1\":[6,  8,  6,  4,  5,  7,  8],\n",
    "                    \"x2\":[3,  1,  2,  2,  1,  4,  5],\n",
    "                    \"x3\":[22, 35, 41, 3,  18, 18, 9]}),\n",
    "        pd.DataFrame({\"x1\":[7,  6,  5,  3,  5],\n",
    "                    \"x2\":[5,  4,  4,  4,  4],\n",
    "                    \"x3\":[47, 50, 11, 42, 1]}),\n",
    "        pd.Series([9,  1, 5, 3, 9, 9, 6]),\n",
    "        pd.Series([10, 3, 7, 6, 8]))\n",
    "archivo = pd.read_excel(\"Archivos/datosTaller.xlsx\")\n",
    "archivo_test = pd.read_excel(\"Archivos/datosTallerTest.xlsx\")\n",
    "datos_test = (pd.DataFrame(archivo)[pd.DataFrame(archivo).columns[1:]], pd.DataFrame(archivo)[pd.DataFrame(archivo).columns[0]])\n",
    "datos_test = train_test_split(datos_test[0], datos_test[1], random_state=0)\n",
    "\n",
    "# Caso 1: no existe la función.\n",
    "try:\n",
    "    predecir\n",
    "    assert type(predecir) == type(lambda:None)\n",
    "except:\n",
    "    raise NotImplementedError(\"No existe una función llamada predecir.\",)\n",
    "    \n",
    "# Caso 2: la función es interrumpida por errores durante su ejecución.\n",
    "try:\n",
    "    predecir(modelo, datos)\n",
    "    #crear_modelo(archivo_test)\n",
    "except:\n",
    "    raise RuntimeError(\"Tu función produce un error al ejecutarse.\")\n",
    "\n",
    "# Caso 3: no retorna un arreglo.\n",
    "assert type(predecir(modelo, datos)) == np.ndarray, f\"Tu función debe retornar un objeto de tipo '{np.ndarray.__name__}'.\"\n",
    "\n",
    "# Caso 4: respuesta len()\n",
    "assert len(predecir(modelo, datos)) == 5, \"La longitud del arreglo con los datos dados es incorrecta.\"\n",
    "\n",
    "# Caso 5: respuesta incorrecta\n",
    "try:\n",
    "    npt.assert_approx_equal(predecir(modelo, datos).mean(), 10.627099878205998)\n",
    "    npt.assert_approx_equal(predecir(modelo, datos)[3], 13.866931147214054)\n",
    "    npt.assert_approx_equal(predecir(modelo, datos)[1], 10.803128182847708)\n",
    "except AssertionError as e:\n",
    "    e.args += (\"Los valores de la solución son incorrectos, revisa la implementación de la función.\",)\n",
    "    raise e\n",
    "\n",
    "# Caso 6: procedimiento incorrecto\n",
    "try:\n",
    "    npt.assert_approx_equal(predecir(modelo, datos_test).mean(), 6.888353715429375)\n",
    "    npt.assert_approx_equal(predecir(modelo, datos_test)[3], 9.123287939544587)\n",
    "    npt.assert_approx_equal(predecir(modelo, datos_test)[1], 6.917762337875083)\n",
    "except AssertionError as e:\n",
    "    e.args += (\"Los valores de la solución son incorrectos para una instancia diferente de los datos.\",)\n",
    "    raise e\n",
    "\n",
    "# Mensaje de felicitaciones\n",
    "print(\"Felicidades, realizaste este ejercicio correctamente.\")"
   ]
  }
 ],
 "metadata": {
  "language_info": {
   "name": "python"
  }
 },
 "nbformat": 4,
 "nbformat_minor": 5
}
