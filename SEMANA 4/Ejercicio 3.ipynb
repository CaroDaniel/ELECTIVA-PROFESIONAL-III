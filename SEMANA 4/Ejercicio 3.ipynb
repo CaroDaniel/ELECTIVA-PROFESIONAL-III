{
 "cells": [
  {
   "cell_type": "markdown",
   "id": "93e4cd74",
   "metadata": {},
   "source": [
    "**Ejercicio 3**"
   ]
  },
  {
   "cell_type": "code",
   "execution_count": null,
   "id": "f9faddf5",
   "metadata": {},
   "outputs": [],
   "source": [
    "import numpy as np\n",
    "import pandas as pd\n",
    "from sklearn.model_selection import train_test_split\n",
    "from sklearn.linear_model import LinearRegression"
   ]
  },
  {
   "cell_type": "code",
   "execution_count": null,
   "id": "66715dd9",
   "metadata": {},
   "outputs": [],
   "source": [
    "datos = (pd.DataFrame({\"x1\":[6,  8,  6,  4,  5,  7,  8],\n",
    "                    \"x2\":[3,  1,  2,  2,  1,  4,  5],\n",
    "                    \"x3\":[22, 35, 41, 3,  18, 18, 9]}),\n",
    "        pd.DataFrame({\"x1\":[7,  6,  5,  3,  5],\n",
    "                    \"x2\":[5,  4,  4,  4,  4],\n",
    "                    \"x3\":[47, 50, 11, 42, 1]}),\n",
    "        pd.Series([9,  1, 5, 3, 9, 9, 6]),\n",
    "        pd.Series([10, 3, 7, 6, 8]))\n",
    "datos"
   ]
  },
  {
   "cell_type": "code",
   "execution_count": null,
   "id": "356a1d45",
   "metadata": {},
   "outputs": [],
   "source": []
  },
  {
   "cell_type": "code",
   "execution_count": null,
   "id": "cf82286c",
   "metadata": {},
   "outputs": [],
   "source": [
    "## AUTO-CALIFICADOR\n",
    "\n",
    "# Base variables\n",
    "datos = (pd.DataFrame({\"x1\":[6,  8,  6,  4,  5,  7,  8],\n",
    "                    \"x2\":[3,  1,  2,  2,  1,  4,  5],\n",
    "                    \"x3\":[22, 35, 41, 3,  18, 18, 9]}),\n",
    "        pd.DataFrame({\"x1\":[7,  6,  5,  3,  5],\n",
    "                    \"x2\":[5,  4,  4,  4,  4],\n",
    "                    \"x3\":[47, 50, 11, 42, 1]}),\n",
    "        pd.Series([9,  1, 5, 3, 9, 9, 6]),\n",
    "        pd.Series([10, 3, 7, 6, 8]))\n",
    "archivo = pd.read_excel(\"Archivos/datosTaller.xlsx\")\n",
    "archivo_test = pd.read_excel(\"Archivos/datosTallerTest.xlsx\")\n",
    "datos_test = (pd.DataFrame(archivo_test)[pd.DataFrame(archivo_test).columns[1:]], pd.DataFrame(archivo_test)[pd.DataFrame(archivo_test).columns[0]])\n",
    "datos_test = train_test_split(datos_test[0], datos_test[1], random_state=0)\n",
    "\n",
    "# Caso 1: no existe la función.\n",
    "try:\n",
    "    crear_modelo\n",
    "    assert type(crear_modelo) == type(lambda:None)\n",
    "except:\n",
    "    raise NotImplementedError(\"No existe una función llamada crear_modelo.\",)\n",
    "    \n",
    "# Caso 2: la función es interrumpida por errores durante su ejecución.\n",
    "try:\n",
    "    crear_modelo(datos)\n",
    "    #crear_modelo(archivo_test)\n",
    "except:\n",
    "    raise RuntimeError(\"Tu función produce un error al ejecutarse.\")\n",
    "\n",
    "# Caso 3: no retorna LinearRegression.\n",
    "assert type(crear_modelo(datos)) == LinearRegression, f\"Tu función debe retornar un objeto de tipo '{LinearRegression.__name__}'.\"\n",
    "\n",
    "# Caso 4: respuesta coef_\n",
    "try:\n",
    "    npt.assert_approx_equal(crear_modelo(datos).coef_[0], -1.2195141060248855)\n",
    "except AssertionError as e:\n",
    "    e.args += (\"Los coeficientes del modelo son incorrectos, revisa la implementación de la regresión.\",)\n",
    "    raise e\n",
    "\n",
    "# Caso 5: respuesta intercept_\n",
    "try:\n",
    "    npt.assert_approx_equal(crear_modelo(datos).intercept_, 7.996285638991168)\n",
    "except AssertionError as e:\n",
    "    e.args += (\"El intercepto del modelo es incorrecto, revisa la implementación de la regresión.\",)\n",
    "    raise e\n",
    "\n",
    "# Caso 6: procedimiento incorrecto coef_\n",
    "try:\n",
    "    npt.assert_approx_equal(crear_modelo(datos_test).coef_[0], -1.953081558461383)\n",
    "except AssertionError as e:\n",
    "    e.args += (\"Los coeficientes del modelo son incorrectos para una instancia diferente de los datos.\",)\n",
    "    raise e\n",
    "\n",
    "# Caso 7: procedimiento incorrecto\n",
    "try:\n",
    "    npt.assert_approx_equal(crear_modelo(datos_test).intercept_, 37.752378744745855)\n",
    "except AssertionError as e:\n",
    "    e.args += (\"El intercepto del modelo es incorrecto para una instancia diferente de los datos.\",)\n",
    "    raise e\n",
    "\n",
    "# Mensaje de felicitaciones\n",
    "print(\"Felicidades, realizaste este ejercicio correctamente.\")"
   ]
  }
 ],
 "metadata": {
  "language_info": {
   "name": "python"
  }
 },
 "nbformat": 4,
 "nbformat_minor": 5
}
