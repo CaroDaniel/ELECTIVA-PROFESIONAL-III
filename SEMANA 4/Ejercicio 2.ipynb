{
 "cells": [
  {
   "cell_type": "markdown",
   "id": "d1e008f9",
   "metadata": {},
   "source": [
    "**Ejericio 2**"
   ]
  },
  {
   "cell_type": "code",
   "execution_count": 1,
   "id": "97cc2156",
   "metadata": {},
   "outputs": [],
   "source": [
    "import numpy as np\n",
    "import pandas as pd\n",
    "from sklearn.model_selection import train_test_split\n",
    "from sklearn.linear_model import LinearRegression"
   ]
  },
  {
   "cell_type": "code",
   "execution_count": 2,
   "id": "501dc9a9",
   "metadata": {},
   "outputs": [
    {
     "data": {
      "text/plain": [
       "(   x1  x2  x3\n",
       " 0   6   3  22\n",
       " 1   8   1  35\n",
       " 2   6   2  41\n",
       " 3   4   2   3\n",
       " 4   5   1  18\n",
       " 5   7   4  18\n",
       " 6   8   5   9,\n",
       " 0    9\n",
       " 1    1\n",
       " 2    5\n",
       " 3    3\n",
       " 4    9\n",
       " 5    9\n",
       " 6    6\n",
       " dtype: int64)"
      ]
     },
     "execution_count": 2,
     "metadata": {},
     "output_type": "execute_result"
    }
   ],
   "source": [
    "datos = (pd.DataFrame({\"x1\":[6,  8,  6,  4, 5,  7,  8],\n",
    "                    \"x2\":[3,  1,  2,  2, 1,  4,  5],\n",
    "                    \"x3\":[22, 35, 41, 3, 18, 18, 9]}),\n",
    "        pd.Series([9, 1, 5, 3, 9, 9, 6]))\n",
    "datos"
   ]
  },
  {
   "cell_type": "code",
   "execution_count": 3,
   "id": "8a37067c",
   "metadata": {},
   "outputs": [],
   "source": [
    "def crear_train_test(datos, test_size=0.3, random_state=42):\n",
    "    x = datos[0]\n",
    "    y = datos[1]\n",
    "    x_train, x_test, y_train, y_test = train_test_split(x, y, test_size=test_size, random_state=random_state)\n",
    "    return (x_train, x_test, y_train, y_test)"
   ]
  },
  {
   "cell_type": "code",
   "execution_count": 4,
   "id": "dc251e08",
   "metadata": {},
   "outputs": [
    {
     "name": "stderr",
     "output_type": "stream",
     "text": [
      "/tmp/ipykernel_27551/2534127020.py:33: FutureWarning: Series.__getitem__ treating keys as positions is deprecated. In a future version, integer keys will always be treated as labels (consistent with DataFrame behavior). To access a value by position, use `ser.iloc[pos]`\n",
      "  assert crear_train_test(datos)[0].mean()[2] == 15.25 and crear_train_test(datos)[0].iloc[1,1] == 3, \"Los valores de X_train son incorrectos.\"\n"
     ]
    },
    {
     "ename": "AssertionError",
     "evalue": "Los valores de X_train son incorrectos.",
     "output_type": "error",
     "traceback": [
      "\u001b[31m---------------------------------------------------------------------------\u001b[39m",
      "\u001b[31mAssertionError\u001b[39m                            Traceback (most recent call last)",
      "\u001b[36mCell\u001b[39m\u001b[36m \u001b[39m\u001b[32mIn[4]\u001b[39m\u001b[32m, line 33\u001b[39m\n\u001b[32m     30\u001b[39m \u001b[38;5;28;01massert\u001b[39;00m \u001b[38;5;28mtype\u001b[39m(crear_train_test(datos)[\u001b[32m2\u001b[39m]) == pd.Series \u001b[38;5;129;01mand\u001b[39;00m \u001b[38;5;28mtype\u001b[39m(crear_train_test(datos)[\u001b[32m3\u001b[39m]) == pd.Series, \u001b[33mf\u001b[39m\u001b[33m\"\u001b[39m\u001b[33mTu función debe retornar un objeto de tipo \u001b[39m\u001b[33m'\u001b[39m\u001b[38;5;132;01m{\u001b[39;00mpd.Series.\u001b[34m__name__\u001b[39m\u001b[38;5;132;01m}\u001b[39;00m\u001b[33m'\u001b[39m\u001b[33m como y_train y y_test.\u001b[39m\u001b[33m\"\u001b[39m\n\u001b[32m     32\u001b[39m \u001b[38;5;66;03m# Caso 5: respuesta X_train\u001b[39;00m\n\u001b[32m---> \u001b[39m\u001b[32m33\u001b[39m \u001b[38;5;28;01massert\u001b[39;00m crear_train_test(datos)[\u001b[32m0\u001b[39m].mean()[\u001b[32m2\u001b[39m] == \u001b[32m15.25\u001b[39m \u001b[38;5;129;01mand\u001b[39;00m crear_train_test(datos)[\u001b[32m0\u001b[39m].iloc[\u001b[32m1\u001b[39m,\u001b[32m1\u001b[39m] == \u001b[32m3\u001b[39m, \u001b[33m\"\u001b[39m\u001b[33mLos valores de X_train son incorrectos.\u001b[39m\u001b[33m\"\u001b[39m\n\u001b[32m     35\u001b[39m \u001b[38;5;66;03m# Caso 6: respuesta X_test\u001b[39;00m\n\u001b[32m     36\u001b[39m \u001b[38;5;28;01mtry\u001b[39;00m:\n",
      "\u001b[31mAssertionError\u001b[39m: Los valores de X_train son incorrectos."
     ]
    }
   ],
   "source": [
    "## AUTO-CALIFICADOR\n",
    "\n",
    "# Base variables\n",
    "datos = (pd.DataFrame({\"x1\":[6,  8,  6,  4, 5,  7,  8],\n",
    "                    \"x2\":[3,  1,  2,  2, 1,  4,  5],\n",
    "                    \"x3\":[22, 35, 41, 3, 18, 18, 9]}),\n",
    "        pd.Series([9, 1, 5, 3, 9, 9, 6]))\n",
    "archivo = pd.read_excel(\"Archivos/datosTaller.xlsx\")\n",
    "archivo_test = pd.read_excel(\"Archivos/datosTallerTest.xlsx\")\n",
    "datos_test = (pd.DataFrame(archivo)[pd.DataFrame(archivo).columns[1:]], pd.DataFrame(archivo)[pd.DataFrame(archivo).columns[0]])\n",
    "\n",
    "# Caso 1: no existe la función.\n",
    "try:\n",
    "    crear_train_test\n",
    "    assert type(crear_train_test) == type(lambda:None)\n",
    "except:\n",
    "    raise NotImplementedError(\"No existe una función llamada crear_train_test.\",)\n",
    "    \n",
    "# Caso 2: la función es interrumpida por errores durante su ejecución.\n",
    "try:\n",
    "    crear_train_test(datos)\n",
    "    crear_train_test((pd.DataFrame(archivo)[pd.DataFrame(archivo).columns[1:]], pd.DataFrame(archivo)[pd.DataFrame(archivo).columns[0]]))\n",
    "except:\n",
    "    raise RuntimeError(\"Tu función produce un error al ejecutarse.\")\n",
    "\n",
    "# Caso 3: no retorna un DataFrame como X_train.\n",
    "assert type(crear_train_test(datos)[0]) == pd.DataFrame and type(crear_train_test(datos)[1]) == pd.DataFrame, f\"Tu función debe retornar una tupla cuyos primeros dos objetos sean de tipo {pd.DataFrame.__name__}.\"\n",
    "\n",
    "# Caso 4: no retorna un Series como y.\n",
    "assert type(crear_train_test(datos)[2]) == pd.Series and type(crear_train_test(datos)[3]) == pd.Series, f\"Tu función debe retornar un objeto de tipo '{pd.Series.__name__}' como y_train y y_test.\"\n",
    "\n",
    "# Caso 5: respuesta X_train\n",
    "assert crear_train_test(datos)[0].mean()[2] == 15.25 and crear_train_test(datos)[0].iloc[1,1] == 3, \"Los valores de X_train son incorrectos.\"\n",
    "\n",
    "# Caso 6: respuesta X_test\n",
    "try:\n",
    "    npt.assert_approx_equal(crear_train_test(datos)[1].mean()[2], 28.333333333333332)\n",
    "    assert crear_train_test(datos)[1].iloc[1,1] == 2\n",
    "except AssertionError as e:\n",
    "    e.args += (\"Los valores de X_test son incorrectos.\",)\n",
    "    raise e\n",
    "\n",
    "# Caso 7: respuesta y_train\n",
    "assert crear_train_test(datos)[2].mean() == 7.5 and crear_train_test(datos)[2].iloc[3] == 9, \"La variable de respuesta y_train es incorrecta.\"\n",
    "\n",
    "# Caso 8: respuesta y_test\n",
    "assert crear_train_test(datos)[3].mean() == 4.0 and crear_train_test(datos)[3].iloc[2]==1, \"La variable de respuesta y_test es incorrecta.\"\n",
    "\n",
    "# Caso 9: procedimiento incorrecto X_train\n",
    "try:\n",
    "    npt.assert_approx_equal(crear_train_test(datos_test)[0].mean()[2], 27.555555555555557)\n",
    "    assert crear_train_test(datos_test)[0].iloc[1,1] == 5\n",
    "except AssertionError as e:\n",
    "    e.args += (\"Tu respuesta para X_train es incorrecta para una instancia diferente de los datos.\",)\n",
    "    raise e\n",
    "\n",
    "# Caso 10: procedimiento incorrecto y_train\n",
    "try:\n",
    "    npt.assert_approx_equal(crear_train_test(datos_test)[2].mean(), 5.888888888888889)\n",
    "    assert crear_train_test(datos_test)[2].iloc[3] == 4\n",
    "except AssertionError as e:\n",
    "    e.args += (\"Tu respuesta de la variable de respuesta y_train es incorrecta para una instancia diferente de los datos.\",)\n",
    "    raise e\n",
    "\n",
    "# Mensaje de felicitaciones\n",
    "print(\"Felicidades, realizaste este ejercicio correctamente.\")"
   ]
  }
 ],
 "metadata": {
  "kernelspec": {
   "display_name": "Python 3",
   "language": "python",
   "name": "python3"
  },
  "language_info": {
   "codemirror_mode": {
    "name": "ipython",
    "version": 3
   },
   "file_extension": ".py",
   "mimetype": "text/x-python",
   "name": "python",
   "nbconvert_exporter": "python",
   "pygments_lexer": "ipython3",
   "version": "3.12.1"
  }
 },
 "nbformat": 4,
 "nbformat_minor": 5
}
