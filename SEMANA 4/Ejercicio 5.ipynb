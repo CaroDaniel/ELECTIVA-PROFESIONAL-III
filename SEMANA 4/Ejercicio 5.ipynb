{
 "cells": [
  {
   "cell_type": "markdown",
   "id": "94b5b5af",
   "metadata": {},
   "source": [
    "**Ejericio 5**"
   ]
  },
  {
   "cell_type": "code",
   "execution_count": null,
   "id": "fd36049d",
   "metadata": {},
   "outputs": [],
   "source": [
    "import numpy as np\n",
    "import pandas as pd\n",
    "from sklearn.model_selection import train_test_split\n",
    "from sklearn.linear_model import LinearRegression\n",
    "import numpy.testing as npt"
   ]
  },
  {
   "cell_type": "code",
   "execution_count": 12,
   "id": "f04df823",
   "metadata": {},
   "outputs": [
    {
     "name": "stderr",
     "output_type": "stream",
     "text": [
      "/home/codespace/.local/lib/python3.12/site-packages/sklearn/base.py:440: InconsistentVersionWarning: Trying to unpickle estimator LinearRegression from version 0.22.2.post1 when using version 1.7.0. This might lead to breaking code or invalid results. Use at your own risk. For more info please refer to:\n",
      "https://scikit-learn.org/stable/model_persistence.html#security-maintainability-limitations\n",
      "  warnings.warn(\n"
     ]
    }
   ],
   "source": [
    "import pickle\n",
    "\n",
    "modelo = pickle.load(open(\"Archivos/modeloTaller\", 'rb'))\n",
    "\n",
    "X_test = pd.DataFrame({\"x1\":[7,  6,  5,  3,  5],\n",
    "                    \"x2\":[5,  4,  4,  4,  4],\n",
    "                    \"x3\":[47, 50, 11, 42, 1]})\n",
    "\n",
    "y_test = pd.Series([10, 3, 7, 6, 8])"
   ]
  },
  {
   "cell_type": "code",
   "execution_count": null,
   "id": "1fae46af",
   "metadata": {},
   "outputs": [],
   "source": [
    "def calcular_precision(modelo, X_test, y_test):\n",
    "    y_pred = np.dot(X_test, modelo.coef_) + modelo.intercept_\n",
    "    \n",
    "    sumRe = np.sum((y_test - y_pred) ** 2)\n",
    "    sunTo = np.sum((y_test - np.mean(y_test)) ** 2)\n",
    "    r2 = 1 - (sumRe / sunTo)\n",
    "    \n",
    "    return np.float64(r2)\n",
    "    "
   ]
  },
  {
   "cell_type": "code",
   "execution_count": 16,
   "id": "faa647c2",
   "metadata": {},
   "outputs": [
    {
     "name": "stdout",
     "output_type": "stream",
     "text": [
      "Felicidades, realizaste este ejercicio correctamente.\n"
     ]
    },
    {
     "name": "stderr",
     "output_type": "stream",
     "text": [
      "/home/codespace/.local/lib/python3.12/site-packages/sklearn/base.py:440: InconsistentVersionWarning: Trying to unpickle estimator LinearRegression from version 0.22.2.post1 when using version 1.7.0. This might lead to breaking code or invalid results. Use at your own risk. For more info please refer to:\n",
      "https://scikit-learn.org/stable/model_persistence.html#security-maintainability-limitations\n",
      "  warnings.warn(\n"
     ]
    }
   ],
   "source": [
    "## AUTO-CALIFICADOR\n",
    "\n",
    "# Base variables\n",
    "import pickle\n",
    "\n",
    "modelo = pickle.load(open(\"Archivos/modeloTaller\", 'rb'))\n",
    "X_test = pd.DataFrame({\"x1\":[7,  6,  5,  3,  5],\n",
    "                       \"x2\":[5,  4,  4,  4,  4],\n",
    "                       \"x3\":[47, 50, 11, 42, 1]})\n",
    "y_test = pd.Series([10, 3, 7, 6, 8])\n",
    "archivo = pd.read_excel(\"Archivos/datosTaller.xlsx\")\n",
    "archivo_test = pd.read_excel(\"Archivos/datosTallerTest.xlsx\")\n",
    "datos_test = (pd.DataFrame(archivo)[pd.DataFrame(archivo).columns[1:]], pd.DataFrame(archivo)[pd.DataFrame(archivo).columns[0]])\n",
    "datos_test = train_test_split(datos_test[0], datos_test[1], random_state=0)\n",
    "\n",
    "# Caso 1: no existe la función.\n",
    "try:\n",
    "    calcular_precision\n",
    "    assert type(calcular_precision) == type(lambda:None)\n",
    "except:\n",
    "    raise NotImplementedError(\"No existe una función llamada calcular_precision.\",)\n",
    "    \n",
    "# Caso 2: la función es interrumpida por errores durante su ejecución.\n",
    "try:\n",
    "    calcular_precision(modelo, X_test, y_test)\n",
    "    #crear_modelo(archivo_test)\n",
    "except:\n",
    "    raise RuntimeError(\"Tu función produce un error al ejecutarse.\")\n",
    "\n",
    "# Caso 3: no retorna un float.\n",
    "assert type(calcular_precision(modelo, X_test, y_test)) == np.float64, f\"Tu función debe retornar un objeto de tipo '{np.float64.__name__}'.\"\n",
    "\n",
    "# Caso 4: respuesta incorrecta\n",
    "try:\n",
    "    npt.assert_approx_equal(calcular_precision(modelo, X_test, y_test), -3.7894053047960226)\n",
    "except AssertionError as e:\n",
    "    e.args += (\"La respuesta de la precisión es incorrecta.\",)\n",
    "    raise e\n",
    "\n",
    "# Caso 5: procedimiento incorrecto\n",
    "try:\n",
    "    npt.assert_approx_equal(calcular_precision(modelo, datos_test[1], datos_test[3]), -0.7120120937366505)\n",
    "except AssertionError as e:\n",
    "    e.args += (\"El valor de la precisión es incorrecto para una instancia diferente de los datos.\",)\n",
    "    raise e\n",
    "\n",
    "# Mensaje de felicitaciones\n",
    "print(\"Felicidades, realizaste este ejercicio correctamente.\")"
   ]
  }
 ],
 "metadata": {
  "kernelspec": {
   "display_name": "Python 3",
   "language": "python",
   "name": "python3"
  },
  "language_info": {
   "codemirror_mode": {
    "name": "ipython",
    "version": 3
   },
   "file_extension": ".py",
   "mimetype": "text/x-python",
   "name": "python",
   "nbconvert_exporter": "python",
   "pygments_lexer": "ipython3",
   "version": "3.12.1"
  }
 },
 "nbformat": 4,
 "nbformat_minor": 5
}
