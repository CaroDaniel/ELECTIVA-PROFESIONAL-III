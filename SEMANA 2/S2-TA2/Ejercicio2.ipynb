{
 "cells": [
  {
   "cell_type": "markdown",
   "id": "2996e84e",
   "metadata": {},
   "source": [
    "**Ejercicio 2**"
   ]
  },
  {
   "cell_type": "code",
   "execution_count": null,
   "id": "fc8f32a4",
   "metadata": {},
   "outputs": [],
   "source": [
    "directorio = \"./Archivos/tesoro.txt\""
   ]
  },
  {
   "cell_type": "code",
   "execution_count": 58,
   "id": "90a43fb7",
   "metadata": {},
   "outputs": [],
   "source": [
    "def archivo_a_lista(directorio) -> list:\n",
    "    with open(directorio, \"r\", encoding=\"utf-8\") as i:\n",
    "        lineas = i.readlines()\n",
    "        if lineas and not lineas[-1].endswith(\"\\n\"):\n",
    "            lineas[-1] = lineas[-1] + \"\\n\"\n",
    "        return lineas"
   ]
  },
  {
   "cell_type": "code",
   "execution_count": 59,
   "id": "8e52e474",
   "metadata": {},
   "outputs": [
    {
     "name": "stdout",
     "output_type": "stream",
     "text": [
      "Felicidades, realizaste este ejercicio correctamente.\n"
     ]
    }
   ],
   "source": [
    "## AUTO-CALIFICADOR\n",
    "\n",
    "# Base variables\n",
    "directorio = \"./Archivos/tesoro.txt\"\n",
    "directorio_prueba = \"./Archivos/tesoro_2.txt\"\n",
    "\n",
    "# Caso 1: no existe la función.\n",
    "try:\n",
    "    archivo_a_lista\n",
    "    assert type(archivo_a_lista) == type(lambda:None)\n",
    "except:\n",
    "    raise NotImplementedError(\"No existe una función llamada archivo_a_lista.\",)\n",
    "    \n",
    "# Caso 2: la función es interrumpida por errores durante su ejecución.\n",
    "try:\n",
    "    archivo_a_lista(directorio)\n",
    "    archivo_a_lista(directorio_prueba)\n",
    "except:\n",
    "    raise RuntimeError(\"Tu función produce un error al ejecutarse. Asegurate de que estés usando una dirección relativa a la ubicación de este notebook.\")\n",
    "\n",
    "# Caso 3: no retorna una lista\n",
    "assert type(archivo_a_lista(directorio_prueba)) == list, f\"Tu función debe retornar un valor de tipo {list.__name__}.\"\n",
    "\n",
    "# Caso 4: retorna una lista vacía\n",
    "assert len(archivo_a_lista(directorio_prueba)) != 0, \"Tu función retorna una lista vacía, cuando debería devolver una lista con las filas del archivo .txt\"\n",
    "\n",
    "# Caso 5: respuesta explicita\n",
    "assert archivo_a_lista(directorio_prueba)[0] != \"Principales tenedores de títulos del tesoro americano en lo que se lleva del 2020\\n\", \"Tu respuesta es incorrecta para una instancia diferente. Asegurate de utilizar el parámetro.\"\n",
    "assert archivo_a_lista(directorio)[0] != 'Estimado estudiante.\\n', \"Tu respuesta es incorrecta para una instancia diferente. Asegurate de utilizar el parámetro.\"\n",
    "\n",
    "# Caso 7: devuelve una lista de longitud errada\n",
    "assert len(archivo_a_lista(directorio_prueba)) == 8, \"Tu función puede no estar tomando en cuenta todas las filas del archivo de texto deseado.\"\n",
    "\n",
    "# Caso 8: la lista es incorrecta\n",
    "resultado_prueba = ['Estimado estudiante.\\n',\n",
    "                    '\\n',\n",
    "                    'Este archivo de texto es para uso exclusivo del auto-calificador.\\n',\n",
    "                    'Evite borrar, mover o editar de cualquier forma su contenido.\\n',\n",
    "                    '\\n',\n",
    "                    '\\n',\n",
    "                    'Agradecemos su colaboración,\\n',\n",
    "                    'Equipo de Laboratorio Computacional de Analytics.\\n']\n",
    "\n",
    "assert archivo_a_lista(directorio_prueba) == resultado_prueba, \"Tu función devuelve una lista errada.\"\n",
    "\n",
    "# Mensaje de felicitaciones\n",
    "print(\"Felicidades, realizaste este ejercicio correctamente.\")"
   ]
  }
 ],
 "metadata": {
  "kernelspec": {
   "display_name": "Python 3",
   "language": "python",
   "name": "python3"
  },
  "language_info": {
   "codemirror_mode": {
    "name": "ipython",
    "version": 3
   },
   "file_extension": ".py",
   "mimetype": "text/x-python",
   "name": "python",
   "nbconvert_exporter": "python",
   "pygments_lexer": "ipython3",
   "version": "3.12.1"
  }
 },
 "nbformat": 4,
 "nbformat_minor": 5
}
