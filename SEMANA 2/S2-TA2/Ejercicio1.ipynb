{
 "cells": [
  {
   "cell_type": "markdown",
   "id": "1deefe5a",
   "metadata": {},
   "source": [
    "**Ejericio 1**"
   ]
  },
  {
   "cell_type": "code",
   "execution_count": null,
   "id": "eb05cc1a",
   "metadata": {},
   "outputs": [],
   "source": [
    "cadena = \"Archivos de texto\""
   ]
  },
  {
   "cell_type": "code",
   "execution_count": 9,
   "id": "2924f651",
   "metadata": {},
   "outputs": [],
   "source": [
    "def sustituir(cadena):\n",
    "    lista = list(cadena)\n",
    "\n",
    "    lista[1], lista[-2] = lista[-2], lista[1]\n",
    "\n",
    "    return \"\".join(lista)"
   ]
  },
  {
   "cell_type": "code",
   "execution_count": 10,
   "id": "c21d2132",
   "metadata": {},
   "outputs": [
    {
     "name": "stdout",
     "output_type": "stream",
     "text": [
      "Felicidades, realizaste este ejercicio correctamente.\n"
     ]
    }
   ],
   "source": [
    "\n",
    "# Base variables\n",
    "cadena = \"Archivos de texto\"\n",
    "cadena_prueba = \"Una cadena con mayor cantidad de caracteres\"\n",
    "\n",
    "# Caso 1: no existe la función.\n",
    "try:\n",
    "    sustituir\n",
    "    assert type(sustituir) == type(lambda:None)\n",
    "except:\n",
    "    raise NotImplementedError(\"No existe una función llamada sustituir.\",)\n",
    "    \n",
    "# Caso 2: la función es interrumpida por errores durante su ejecución.\n",
    "try:\n",
    "    sustituir(cadena)\n",
    "    sustituir(cadena_prueba)\n",
    "except:\n",
    "    raise RuntimeError(\"Tu función produce un error al ejecutarse.\")\n",
    "\n",
    "# Caso 3: no retorna una cadena\n",
    "assert type(sustituir(cadena_prueba)) == str, f\"Tu función debe retornar un valor de tipo {str.__name__}.\"\n",
    "\n",
    "# Caso 4: respuesta explicita\n",
    "assert sustituir(cadena_prueba) != \"Atchivos de texro\", \"Tu respuesta es incorrecta para una instancia diferente. Utiliza el parámetro.\"\n",
    "\n",
    "# Caso 5: retorna la misma cadena\n",
    "assert sustituir(cadena_prueba) != cadena_prueba, \"Tu función retorna la misma cadena que recibe por parámetro sin alterar.\"\n",
    "\n",
    "# Caso 6: devuelve una cadena de longitud errada\n",
    "assert len(sustituir(cadena_prueba)) == len(cadena_prueba), \"Tu función puede no estar tomando en cuenta todos los caracteres de la cadena que recibe por parámetro.\"\n",
    "\n",
    "# Caso 7: asigna el mismo valor a ambas posiciones\n",
    "assert sustituir(cadena_prueba)[1] != sustituir(cadena_prueba)[-2], \"Tu función asigna el mismo caracter en las posiciones segunda y penúltima.\"\n",
    "\n",
    "# Caso 8: confunde indexación iniciada en cero\n",
    "assert sustituir(cadena_prueba)[2] != \"s\", \"Tu función una posición que no debería. Recuerda que en Python la indexación inicia en 0\"\n",
    "\n",
    "# Caso 9: retorna una cadena distinta de la esperada\n",
    "assert sustituir(cadena_prueba) == \"Uea cadena con mayor cantidad de caracterns\", \"Tu función no retorna la cadena correcta.\"\n",
    "assert sustituir(cadena) == \"Atchivos de texro\", \"Tu función no retorna la cadena correcta.\"\n",
    "\n",
    "# Mensaje de felicitaciones\n",
    "print(\"Felicidades, realizaste este ejercicio correctamente.\")"
   ]
  }
 ],
 "metadata": {
  "kernelspec": {
   "display_name": "Python 3",
   "language": "python",
   "name": "python3"
  },
  "language_info": {
   "codemirror_mode": {
    "name": "ipython",
    "version": 3
   },
   "file_extension": ".py",
   "mimetype": "text/x-python",
   "name": "python",
   "nbconvert_exporter": "python",
   "pygments_lexer": "ipython3",
   "version": "3.12.1"
  }
 },
 "nbformat": 4,
 "nbformat_minor": 5
}
