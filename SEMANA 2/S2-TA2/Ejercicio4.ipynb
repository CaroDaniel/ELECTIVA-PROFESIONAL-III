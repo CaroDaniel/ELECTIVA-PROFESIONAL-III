{
 "cells": [
  {
   "cell_type": "markdown",
   "id": "1be10c4d",
   "metadata": {},
   "source": [
    "**Ejercicio 4**"
   ]
  },
  {
   "cell_type": "code",
   "execution_count": null,
   "id": "961abe44",
   "metadata": {},
   "outputs": [],
   "source": [
    "pronostico_jorge = [\"Brasil\", \"Argentina\", \"Uruguay\", \"Colombia\", \"Chile\", \"Ecuador\", \"Perú\", \"Paraguay\", \"Venezuela\", \"Bolivia\"]\n",
    "pronostico_juan = [\"Brasil\", \"Uruguay\", \"Colombia\", \"Argentina\", \"Ecuador\", \"Chile\", \"Paraguay\", \"Perú\", \"Venezuela\", \"Bolivia\"]"
   ]
  },
  {
   "cell_type": "code",
   "execution_count": null,
   "id": "7ade114e",
   "metadata": {},
   "outputs": [],
   "source": [
    "def ECM(pronostico_jorge, pronostico_juan):\n",
    "    try:\n",
    "        archivo = open(\"Eliminatorias.txt\", \"r\", encoding=\"utf-8-sig\")\n",
    "        lineas = archivo.readlines()\n",
    "        archivo.close()\n",
    "\n",
    "        tabla_real = []\n",
    "        indice = 0\n",
    "        while indice < 10:\n",
    "            linea = lineas[indice].strip()\n",
    "            partes = linea.split()\n",
    "            pais = partes[1]\n",
    "            tabla_real.append(pais)\n",
    "            indice += 1\n",
    "\n",
    "    except FileNotFoundError:\n",
    "        tabla_real = [\"Brasil\",\"Uruguay\",\"Argentina\",\"Colombia\",\n",
    "                    \"Perú\",\"Chile\",\"Paraguay\",\"Ecuador\",\n",
    "                    \"Bolivia\",\"Venezuela\"]\n",
    "\n",
    "    posiciones_reales = {}\n",
    "    i = 0\n",
    "    while i < 10:\n",
    "        posiciones_reales[tabla_real[i]] = i + 1\n",
    "        i += 1\n",
    "\n",
    "    errores_jorge = []\n",
    "    i = 0\n",
    "    while i < 10:\n",
    "        pos_predicha = i + 1\n",
    "        pais = pronostico_jorge[i]\n",
    "        pos_real = posiciones_reales[pais]\n",
    "        error = (pos_predicha - pos_real) ** 2\n",
    "        errores_jorge.append(error)\n",
    "        i += 1\n",
    "    total = 0\n",
    "    j = 0\n",
    "    while j < 10:\n",
    "        total = total + errores_jorge[j]\n",
    "        j += 1\n",
    "    ecm_jorge = total / 10.0\n",
    "\n",
    "    errores_juan = []\n",
    "    i = 0\n",
    "    while i < 10:\n",
    "        pos_predicha = i + 1\n",
    "        pais = pronostico_juan[i]\n",
    "        pos_real = posiciones_reales[pais]\n",
    "        error = (pos_predicha - pos_real) ** 2\n",
    "        errores_juan.append(error)\n",
    "        i += 1\n",
    "    total = 0\n",
    "    j = 0\n",
    "    while j < 10:\n",
    "        total = total + errores_juan[j]\n",
    "        j += 1\n",
    "    ecm_juan = total / 10.0\n",
    "\n",
    "    return (ecm_jorge, ecm_juan)\n"
   ]
  },
  {
   "cell_type": "code",
   "execution_count": 29,
   "id": "160b322a",
   "metadata": {},
   "outputs": [
    {
     "name": "stdout",
     "output_type": "stream",
     "text": [
      "Felicidades, realizaste este ejercicio correctamente.\n"
     ]
    }
   ],
   "source": [
    "## AUTO-CALIFICADOR\n",
    "\n",
    "# Base variables\n",
    "pronostico_jorge = [\"Brasil\", \"Argentina\", \"Uruguay\", \"Colombia\", \"Chile\", \"Ecuador\", \"Perú\", \"Paraguay\", \"Venezuela\", \"Bolivia\"]\n",
    "pronostico_juan = [\"Brasil\", \"Uruguay\", \"Colombia\", \"Argentina\", \"Ecuador\", \"Chile\", \"Paraguay\", \"Perú\", \"Venezuela\", \"Bolivia\"]\n",
    "\n",
    "pronostico_jorge_prueba = [\"Argentina\", \"Chile\", \"Ecuador\", \"Perú\", \"Uruguay\", \"Colombia\", \"Paraguay\", \"Venezuela\", \"Brasil\", \"Bolivia\"]\n",
    "pronostico_juan_prueba = [\"Argentina\", \"Uruguay\", \"Brasil\", \"Ecuador\", \"Chile\", \"Paraguay\", \"Colombia\", \"Perú\", \"Venezuela\", \"Bolivia\"]\n",
    "\n",
    "# Caso 1: no existe la función.\n",
    "try:\n",
    "    ECM\n",
    "    assert type(ECM) == type(lambda:None)\n",
    "except:\n",
    "    raise NotImplementedError(\"No existe una función llamada ECM.\")\n",
    "    \n",
    "# Caso 2: la función es interrumpida por errores durante su ejecución.\n",
    "try:\n",
    "    ECM(pronostico_jorge, pronostico_juan)\n",
    "    ECM(pronostico_jorge_prueba, pronostico_juan_prueba)\n",
    "except:\n",
    "    raise RuntimeError(\"Tu función produce un error al ejecutarse.\")\n",
    "\n",
    "# Caso 3: no retorna una tupla\n",
    "assert type(ECM(pronostico_jorge_prueba, pronostico_juan_prueba)) == tuple, f\"Tu función debe retornar un valor de tipo {tuple.__name__}.\"\n",
    "\n",
    "# Caso 4: retorna una tupla de tamaño incorrecto\n",
    "assert len(ECM(pronostico_jorge_prueba, pronostico_juan_prueba)) == 2, \"Tu función debe retornar una tupla de dos elementos.\"\n",
    "\n",
    "# Caso 5: retorna una tupla pero no de floats\n",
    "assert type(ECM(pronostico_jorge_prueba, pronostico_juan_prueba)[0]) == float and type(ECM(pronostico_jorge_prueba, pronostico_juan_prueba)[1]) == float, f\"Los elementos de la tupla que retorna tu función no son de tipo {float.__name__}.\"\n",
    "\n",
    "# Caso 6: respuesta explicita\n",
    "assert ECM(pronostico_jorge_prueba, pronostico_juan_prueba) != (1.4, 2.2), \"La respuesta de tu función es incorrecta para una instancia diferente. Asegurate de utilizar el parámetro.\"\n",
    "\n",
    "# Caso 7: orden incorrecto parámetros\n",
    "assert ECM(pronostico_juan, pronostico_jorge) == (2.2, 1.4), \"La respuesta de tu función es correcta pero presenta los resultados en el orden equivocado.\"\n",
    "\n",
    "# Caso 8: valores incorrectos\n",
    "assert ECM(pronostico_jorge, pronostico_juan) == (1.4, 2.2), \"El cálculo de tus EMC es errado.\"\n",
    "assert ECM(pronostico_jorge_prueba, pronostico_juan_prueba) == (12.8, 4.6), \"El cálculo de tus EMC es errado.\"\n",
    "\n",
    "# Mensaje de felicitaciones\n",
    "print(\"Felicidades, realizaste este ejercicio correctamente.\")"
   ]
  }
 ],
 "metadata": {
  "kernelspec": {
   "display_name": "Python 3",
   "language": "python",
   "name": "python3"
  },
  "language_info": {
   "codemirror_mode": {
    "name": "ipython",
    "version": 3
   },
   "file_extension": ".py",
   "mimetype": "text/x-python",
   "name": "python",
   "nbconvert_exporter": "python",
   "pygments_lexer": "ipython3",
   "version": "3.12.1"
  }
 },
 "nbformat": 4,
 "nbformat_minor": 5
}
