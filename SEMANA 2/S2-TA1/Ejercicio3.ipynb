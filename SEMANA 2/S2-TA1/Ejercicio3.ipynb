{
 "cells": [
  {
   "cell_type": "markdown",
   "id": "9a933de9",
   "metadata": {},
   "source": [
    "**Ejercicio 3**"
   ]
  },
  {
   "cell_type": "code",
   "execution_count": 1,
   "id": "e299e25d",
   "metadata": {},
   "outputs": [],
   "source": [
    "lista = [4, 3, 8, 5, 6, 2, 7, 5]"
   ]
  },
  {
   "cell_type": "code",
   "execution_count": 8,
   "id": "41f4351e",
   "metadata": {},
   "outputs": [],
   "source": [
    "def separar_pares_impares(lista):\n",
    "    pares = [i for i in lista if isinstance(i, int) and i % 2 == 0]\n",
    "    impares = [i for i in lista if isinstance(i, int) and i % 2 != 0]\n",
    "\n",
    "    pares.sort()\n",
    "    impares.sort()\n",
    "\n",
    "    return (pares, impares)"
   ]
  },
  {
   "cell_type": "code",
   "execution_count": 9,
   "id": "0f8b88be",
   "metadata": {},
   "outputs": [
    {
     "name": "stdout",
     "output_type": "stream",
     "text": [
      "Felicidades, realizaste este ejercicio correctamente.\n"
     ]
    }
   ],
   "source": [
    "# Base variables\n",
    "lista = [4, 3, 8, 5, 6, 2, 7, 5]\n",
    "lista_prueba = [3, 1, 2, 8, 6, 6, 7, 10, 9, 8]\n",
    "\n",
    "# Caso 1: no existe la función.\n",
    "try:\n",
    "    separar_pares_impares\n",
    "    assert type(separar_pares_impares) == type(lambda:None)\n",
    "except:\n",
    "    raise NotImplementedError(\"No existe una función llamada separar_pares_impares.\")\n",
    "\n",
    "# Caso 2: la función es interrumpida por errores durante su ejecución.\n",
    "try:\n",
    "    separar_pares_impares(lista)\n",
    "    separar_pares_impares(lista_prueba)\n",
    "except:\n",
    "    raise RuntimeError(\"Tu función produce un error al ejecutarse.\")\n",
    "\n",
    "# Caso 3: no retorna una tupla de listas\n",
    "assert type(separar_pares_impares(lista_prueba)) == tuple, f\"Tu función debe retornar un valor de tipo {tuple.__name__}.\"\n",
    "assert type(separar_pares_impares(lista_prueba)[0]) == list and type(separar_pares_impares(lista_prueba)[1]) == list, \"La tupla que retorna tu función debe contener una lista en su primera y segunda posicion.\"\n",
    "\n",
    "# Case 4: len(tupla) != 2\n",
    "assert len(separar_pares_impares(lista_prueba)) == len(([],[])), \"Tu función retorna una tupla de tamaño incorrecto.\"\n",
    "\n",
    "# Caso 5: respuesta explicita\n",
    "assert separar_pares_impares(lista_prueba) == ([2, 6, 6, 8, 8, 10], [1, 3, 7, 9]), \"Tu respuesta es incorrecta para para una instancia diferente. Utiliza el parámetro.\"\n",
    "\n",
    "# Caso 6: la lista de impares está ubicada antes que la lista de pares.\n",
    "assert sum([i % 2 for i in separar_pares_impares(lista_prueba)[0]]) == 0, \"La primera lista de la tupla debe contener únicamente pares.\"\n",
    "assert sum([(i + 1) % 2 for i in separar_pares_impares(lista_prueba)[1]]) == 0, \"La segunda lista de la tupla debe contener únicamente impares.\"\n",
    "\n",
    "# Caso 7: la lista de pares y la lista de impares es cada una de longitud incorrecta\n",
    "assert len(separar_pares_impares(lista_prueba)[0]) == len([2, 6, 6, 8, 8, 10]), \"La primera lista de la tupla que retorna tu función no tiene la longitud correcta.\"\n",
    "assert len(separar_pares_impares(lista_prueba)[1]) == len([1, 3, 7, 9]), \"La segunda lista de la tupla que retorna tu función no tiene la longitud correcta.\"\n",
    "\n",
    "# Caso 8: las listas son correctas, independiente de su orden\n",
    "assert set(separar_pares_impares(lista_prueba)[0]) == {2, 6, 6, 8, 8, 10}, \"La primera lista de la tupla que retorna tu función no contiene los elementos esperados, independiente de su orden.\"\n",
    "assert set(separar_pares_impares(lista_prueba)[1]) == {1, 3, 7, 9}, \"La segunda lista de la tupla que retorna tu función no contiene los elementos esperados, independiente de su orden.\"\n",
    "\n",
    "# Caso 9: las listas no están ordenadas ascendentemente\n",
    "assert separar_pares_impares(lista_prueba)[0] == [2, 6, 6, 8, 8, 10], \"La primera lista de la tupla que retorna tu función no está ordenada ascendentemente.\"\n",
    "assert separar_pares_impares(lista_prueba)[1] == [1, 3, 7, 9], \"La segunda lista de la tupla que retorna tu función no está ordenada ascendentemente.\"\n",
    "\n",
    "assert separar_pares_impares(lista)[0] == [2, 4, 6 ,8], \"La primera lista de la tupla que retorna tu función no está ordenada ascendentemente.\"\n",
    "assert separar_pares_impares(lista)[1] == [3, 5, 5, 7], \"La segunda lista de la tupla que retorna tu función no está ordenada ascendentemente.\"\n",
    "\n",
    "# Mensaje de felicitaciones\n",
    "print(\"Felicidades, realizaste este ejercicio correctamente.\")"
   ]
  }
 ],
 "metadata": {
  "kernelspec": {
   "display_name": "Python 3",
   "language": "python",
   "name": "python3"
  },
  "language_info": {
   "codemirror_mode": {
    "name": "ipython",
    "version": 3
   },
   "file_extension": ".py",
   "mimetype": "text/x-python",
   "name": "python",
   "nbconvert_exporter": "python",
   "pygments_lexer": "ipython3",
   "version": "3.12.1"
  }
 },
 "nbformat": 4,
 "nbformat_minor": 5
}
