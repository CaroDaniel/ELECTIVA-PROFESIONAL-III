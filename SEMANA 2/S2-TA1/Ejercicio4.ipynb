{
 "cells": [
  {
   "cell_type": "markdown",
   "id": "703f3aa6",
   "metadata": {},
   "source": [
    "**Ejercicio 4**"
   ]
  },
  {
   "cell_type": "code",
   "execution_count": 1,
   "id": "b4e259bc",
   "metadata": {},
   "outputs": [],
   "source": [
    "treinta = 30\n",
    "cuarenta_y_cinco = 45\n",
    "cincuenta = 50\n",
    "sesenta_y_tres = 63"
   ]
  },
  {
   "cell_type": "code",
   "execution_count": 12,
   "id": "8ddea05c",
   "metadata": {},
   "outputs": [],
   "source": [
    "mayor_a_cincuenta = lambda x: x > 50"
   ]
  },
  {
   "cell_type": "code",
   "execution_count": 13,
   "id": "4a85f225",
   "metadata": {},
   "outputs": [
    {
     "name": "stdout",
     "output_type": "stream",
     "text": [
      "Felicidades, realizaste este ejercicio correctamente.\n"
     ]
    }
   ],
   "source": [
    "## AUTO-CALIFICADOR\n",
    "\n",
    "# Base variables\n",
    "treinta = 30\n",
    "cuarenta_y_cinco = 45\n",
    "cincuenta = 50\n",
    "sesenta_y_tres = 63\n",
    "    \n",
    "# Caso 1: no existe la función.\n",
    "try:\n",
    "    mayor_a_cincuenta\n",
    "    assert type(mayor_a_cincuenta) == type(lambda:None)\n",
    "except:\n",
    "    raise NotImplementedError(\"No existe una función llamada mayor_a_cincuenta.\")\n",
    "\n",
    "# Caso 2: la función es interrumpida por errores durante su ejecución.\n",
    "try:\n",
    "    mayor_a_cincuenta(treinta)\n",
    "    mayor_a_cincuenta(cuarenta_y_cinco)\n",
    "    mayor_a_cincuenta(cincuenta)\n",
    "    mayor_a_cincuenta(sesenta_y_tres)\n",
    "except:\n",
    "    raise RuntimeError(\"Tu función produce un error al ejecutarse.\")\n",
    "    \n",
    "# Caso 3: la función no es de tipo lambda\n",
    "assert str(mayor_a_cincuenta).find(\"lambda\") > -1, \"Tu función no es anónima o de tipo lambda.\"\n",
    "\n",
    "# Caso 4: la función retorna un valor no booleano\n",
    "assert type(mayor_a_cincuenta(sesenta_y_tres)) == bool, f\"Tu función debe retornar un valor de tipo {bool.__name__}.\"\n",
    "\n",
    "# Caso 5: condición contraria (num < 50)\n",
    "assert mayor_a_cincuenta(sesenta_y_tres) and not mayor_a_cincuenta(treinta), \"La condición de tu función es incorrecta. Es probable que tengas que utilizar un símbolo de desigualdad contrario.\"\n",
    "\n",
    "# Caso 6: usa mayor o igual\n",
    "assert not mayor_a_cincuenta(cincuenta), \"50 no es mayor a 50.\"\n",
    "\n",
    "# Caso 7: diversos casos\n",
    "try:\n",
    "    assert not mayor_a_cincuenta(treinta)\n",
    "    assert not mayor_a_cincuenta(cuarenta_y_cinco)\n",
    "    assert not mayor_a_cincuenta(cincuenta)\n",
    "    assert mayor_a_cincuenta(sesenta_y_tres)\n",
    "except AssertionError as e:\n",
    "    e.args += (\"Tu función no retorna el booleano correcto.\",)\n",
    "    raise e\n",
    "    \n",
    "# Mensaje de felicitaciones\n",
    "print(\"Felicidades, realizaste este ejercicio correctamente.\")"
   ]
  }
 ],
 "metadata": {
  "kernelspec": {
   "display_name": "Python 3",
   "language": "python",
   "name": "python3"
  },
  "language_info": {
   "codemirror_mode": {
    "name": "ipython",
    "version": 3
   },
   "file_extension": ".py",
   "mimetype": "text/x-python",
   "name": "python",
   "nbconvert_exporter": "python",
   "pygments_lexer": "ipython3",
   "version": "3.12.1"
  }
 },
 "nbformat": 4,
 "nbformat_minor": 5
}
