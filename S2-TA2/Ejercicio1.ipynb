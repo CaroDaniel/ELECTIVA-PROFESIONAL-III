{
 "cells": [
  {
   "cell_type": "markdown",
   "id": "1deefe5a",
   "metadata": {},
   "source": [
    "**Ejericio 1**"
   ]
  },
  {
   "cell_type": "code",
   "execution_count": null,
   "id": "eb05cc1a",
   "metadata": {},
   "outputs": [],
   "source": [
    "cadena = \"Archivos de texto\""
   ]
  },
  {
   "cell_type": "code",
   "execution_count": 8,
   "id": "2924f651",
   "metadata": {},
   "outputs": [],
   "source": [
    "def sustituir(cadena):\n",
    "    texto_cambiado = cadena[0] + \"X\" + cadena[2:-2] + \"Y\" + cadena[-1]\n",
    "    return texto_cambiado"
   ]
  },
  {
   "cell_type": "code",
   "execution_count": 9,
   "id": "c21d2132",
   "metadata": {},
   "outputs": [
    {
     "ename": "AssertionError",
     "evalue": "Tu función no retorna la cadena correcta.",
     "output_type": "error",
     "traceback": [
      "\u001b[31m---------------------------------------------------------------------------\u001b[39m",
      "\u001b[31mAssertionError\u001b[39m                            Traceback (most recent call last)",
      "\u001b[36mCell\u001b[39m\u001b[36m \u001b[39m\u001b[32mIn[9]\u001b[39m\u001b[32m, line 38\u001b[39m\n\u001b[32m     35\u001b[39m \u001b[38;5;28;01massert\u001b[39;00m sustituir(cadena_prueba)[\u001b[32m2\u001b[39m] != \u001b[33m\"\u001b[39m\u001b[33ms\u001b[39m\u001b[33m\"\u001b[39m, \u001b[33m\"\u001b[39m\u001b[33mTu función una posición que no debería. Recuerda que en Python la indexación inicia en 0\u001b[39m\u001b[33m\"\u001b[39m\n\u001b[32m     37\u001b[39m \u001b[38;5;66;03m# Caso 9: retorna una cadena distinta de la esperada\u001b[39;00m\n\u001b[32m---> \u001b[39m\u001b[32m38\u001b[39m \u001b[38;5;28;01massert\u001b[39;00m sustituir(cadena_prueba) == \u001b[33m\"\u001b[39m\u001b[33mUea cadena con mayor cantidad de caracterns\u001b[39m\u001b[33m\"\u001b[39m, \u001b[33m\"\u001b[39m\u001b[33mTu función no retorna la cadena correcta.\u001b[39m\u001b[33m\"\u001b[39m\n\u001b[32m     39\u001b[39m \u001b[38;5;28;01massert\u001b[39;00m sustituir(cadena) == \u001b[33m\"\u001b[39m\u001b[33mAtchivos de texro\u001b[39m\u001b[33m\"\u001b[39m, \u001b[33m\"\u001b[39m\u001b[33mTu función no retorna la cadena correcta.\u001b[39m\u001b[33m\"\u001b[39m\n\u001b[32m     41\u001b[39m \u001b[38;5;66;03m# Mensaje de felicitaciones\u001b[39;00m\n",
      "\u001b[31mAssertionError\u001b[39m: Tu función no retorna la cadena correcta."
     ]
    }
   ],
   "source": [
    "\n",
    "# Base variables\n",
    "cadena = \"Archivos de texto\"\n",
    "cadena_prueba = \"Una cadena con mayor cantidad de caracteres\"\n",
    "\n",
    "# Caso 1: no existe la función.\n",
    "try:\n",
    "    sustituir\n",
    "    assert type(sustituir) == type(lambda:None)\n",
    "except:\n",
    "    raise NotImplementedError(\"No existe una función llamada sustituir.\",)\n",
    "    \n",
    "# Caso 2: la función es interrumpida por errores durante su ejecución.\n",
    "try:\n",
    "    sustituir(cadena)\n",
    "    sustituir(cadena_prueba)\n",
    "except:\n",
    "    raise RuntimeError(\"Tu función produce un error al ejecutarse.\")\n",
    "\n",
    "# Caso 3: no retorna una cadena\n",
    "assert type(sustituir(cadena_prueba)) == str, f\"Tu función debe retornar un valor de tipo {str.__name__}.\"\n",
    "\n",
    "# Caso 4: respuesta explicita\n",
    "assert sustituir(cadena_prueba) != \"Atchivos de texro\", \"Tu respuesta es incorrecta para una instancia diferente. Utiliza el parámetro.\"\n",
    "\n",
    "# Caso 5: retorna la misma cadena\n",
    "assert sustituir(cadena_prueba) != cadena_prueba, \"Tu función retorna la misma cadena que recibe por parámetro sin alterar.\"\n",
    "\n",
    "# Caso 6: devuelve una cadena de longitud errada\n",
    "assert len(sustituir(cadena_prueba)) == len(cadena_prueba), \"Tu función puede no estar tomando en cuenta todos los caracteres de la cadena que recibe por parámetro.\"\n",
    "\n",
    "# Caso 7: asigna el mismo valor a ambas posiciones\n",
    "assert sustituir(cadena_prueba)[1] != sustituir(cadena_prueba)[-2], \"Tu función asigna el mismo caracter en las posiciones segunda y penúltima.\"\n",
    "\n",
    "# Caso 8: confunde indexación iniciada en cero\n",
    "assert sustituir(cadena_prueba)[2] != \"s\", \"Tu función una posición que no debería. Recuerda que en Python la indexación inicia en 0\"\n",
    "\n",
    "# Caso 9: retorna una cadena distinta de la esperada\n",
    "assert sustituir(cadena_prueba) == \"Uea cadena con mayor cantidad de caracterns\", \"Tu función no retorna la cadena correcta.\"\n",
    "assert sustituir(cadena) == \"Atchivos de texro\", \"Tu función no retorna la cadena correcta.\"\n",
    "\n",
    "# Mensaje de felicitaciones\n",
    "print(\"Felicidades, realizaste este ejercicio correctamente.\")"
   ]
  }
 ],
 "metadata": {
  "kernelspec": {
   "display_name": "Python 3",
   "language": "python",
   "name": "python3"
  },
  "language_info": {
   "codemirror_mode": {
    "name": "ipython",
    "version": 3
   },
   "file_extension": ".py",
   "mimetype": "text/x-python",
   "name": "python",
   "nbconvert_exporter": "python",
   "pygments_lexer": "ipython3",
   "version": "3.12.1"
  }
 },
 "nbformat": 4,
 "nbformat_minor": 5
}
