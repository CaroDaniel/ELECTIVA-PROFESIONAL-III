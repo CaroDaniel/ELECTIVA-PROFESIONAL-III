{
 "cells": [
  {
   "cell_type": "markdown",
   "id": "2996e84e",
   "metadata": {},
   "source": [
    "**Ejercicio 2**"
   ]
  },
  {
   "cell_type": "code",
   "execution_count": null,
   "id": "fc8f32a4",
   "metadata": {},
   "outputs": [],
   "source": [
    "directorio = \"./Archivos/tesoro.txt\""
   ]
  },
  {
   "cell_type": "code",
   "execution_count": null,
   "id": "90a43fb7",
   "metadata": {},
   "outputs": [],
   "source": []
  },
  {
   "cell_type": "code",
   "execution_count": null,
   "id": "8e52e474",
   "metadata": {},
   "outputs": [],
   "source": []
  }
 ],
 "metadata": {
  "language_info": {
   "name": "python"
  }
 },
 "nbformat": 4,
 "nbformat_minor": 5
}
