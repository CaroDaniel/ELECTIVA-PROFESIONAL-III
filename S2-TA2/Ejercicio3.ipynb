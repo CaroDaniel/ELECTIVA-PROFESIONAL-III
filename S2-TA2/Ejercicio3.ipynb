{
 "cells": [
  {
   "cell_type": "markdown",
   "id": "74fa6fb9",
   "metadata": {},
   "source": [
    "**Ejercicio 3**"
   ]
  },
  {
   "cell_type": "code",
   "execution_count": 8,
   "id": "c42fde8a",
   "metadata": {},
   "outputs": [],
   "source": [
    "directorio = \"./Archivos/tesoro.txt\"\n",
    "lista_paises = ['Japón', 'Francia']\n",
    "lineas = archivo_a_lista(directorio)"
   ]
  },
  {
   "cell_type": "code",
   "execution_count": 11,
   "id": "171a75d7",
   "metadata": {},
   "outputs": [],
   "source": [
    "def filtrar_paises(lista_paises):\n",
    "    return [linea for linea in lineas if any(pais in linea for pais in lista_paises)]"
   ]
  },
  {
   "cell_type": "code",
   "execution_count": 13,
   "id": "5d263681",
   "metadata": {},
   "outputs": [
    {
     "name": "stdout",
     "output_type": "stream",
     "text": [
      "Felicidades, realizaste este ejercicio correctamente.\n"
     ]
    }
   ],
   "source": [
    "## AUTO-CALIFICADOR\n",
    "\n",
    "# Base variables\n",
    "directorio = \"./Archivos/tesoro.txt\"\n",
    "directorio_prueba = \"./Archivos/tesoro_2.txt\"\n",
    "lista_paises = ['Japón', 'Francia']\n",
    "lista_paises_prueba = ['Suiza', 'Noruega', 'Tailandia', 'Kuwait']\n",
    "resultado_prueba_ej_2 = ['Estimado estudiante.\\n',\n",
    "                        '\\n',\n",
    "                        'Este archivo de texto es para uso exclusivo del auto-calificador.\\n',\n",
    "                        'Evite borrar, mover o editar de cualquier forma su contenido.\\n',\n",
    "                        '\\n',\n",
    "                        '\\n',\n",
    "                        'Agradecemos su colaboración,\\n',\n",
    "                        'Equipo de Laboratorio Computacional de Analytics.\\n']\n",
    "\n",
    "\n",
    "# Caso 0: no ha implementado el ejercicio 2:\n",
    "try:\n",
    "    assert archivo_a_lista(directorio_prueba) == resultado_prueba_ej_2\n",
    "except:\n",
    "    raise NotImplementedError(\"Debes haber implementado correctamente el ejercicio 2.\")\n",
    "\n",
    "lineas = archivo_a_lista(directorio)\n",
    "\n",
    "# Caso 1: no existe la función.\n",
    "try:\n",
    "    filtrar_paises\n",
    "    assert type(filtrar_paises) == type(lambda:None)\n",
    "except:\n",
    "    raise NotImplementedError(\"No existe una función llamada filtrar_paises.\",)\n",
    "    \n",
    "# Caso 2: la función es interrumpida por errores durante su ejecución.\n",
    "try:\n",
    "    filtrar_paises(lista_paises)\n",
    "    filtrar_paises(lista_paises_prueba)\n",
    "except:\n",
    "    raise RuntimeError(\"Tu función produce un error al ejecutarse.\")\n",
    "\n",
    "# Caso 3: no retorna una lista\n",
    "assert type(filtrar_paises(lista_paises_prueba)) == list, f\"Tu función debe retornar un valor de tipo {list.__name__}.\"\n",
    "\n",
    "# Caso 4: retorna una lista vacía\n",
    "assert len(filtrar_paises(lista_paises_prueba)) != 0, \"Tu función retorna una lista vacía, cuando debería devolver una lista con las filas solicitadas del archivo .txt.\"\n",
    "\n",
    "# Caso 5: respuesta explicita\n",
    "assert filtrar_paises(lista_paises_prueba)[0] != 'Japón\\t1261.5\\t1260.4\\t1266.5\\t1272.6\\t1268.6\\t1211.8\\t1155.2\\t\\n', \"Tu respuesta es incorrecta para una instancia diferente. Asegurate de utilizar el parámetro.\"\n",
    "\n",
    "# Caso 6: devuelve una lista de longitud errada\n",
    "assert len(filtrar_paises(lista_paises_prueba)) == len(lista_paises_prueba), \"Tu función puede no estar tomando en cuenta todos los paises de la lista que recibe por parámetro.\"\n",
    "\n",
    "# Caso 7: la lista es incorrecta\n",
    "resultado = ['Japón\\t1261.5\\t1260.4\\t1266.5\\t1272.6\\t1268.6\\t1211.8\\t1155.2\\t\\n',\n",
    "            'Francia\\t144.2\\t130.5\\t137.7\\t156.0\\t147.6\\t134.0\\t127.7\\t\\n']\n",
    "\n",
    "resultado_prueba = ['Suiza\\t247.4\\t243.1\\t241.3\\t244.6\\t243.7\\t238.1\\t237.5\\t\\n',\n",
    "                    'Noruega\\t89.5\\t87.6\\t93.2\\t98.0\\t103.3\\t97.7\\t90.1\\t\\n',\n",
    "                    'Tailandia\\t85.5\\t85.8\\t80.5\\t81.8\\t91.3\\t96.0\\t90.5\\t\\n',\n",
    "                    'Kuwait\\t44.9\\t43.6\\t44.5\\t40.1\\t43.6\\t41.9\\t43.3\\t\\n']\n",
    "\n",
    "assert filtrar_paises(lista_paises) == resultado, \"Tu función devuelve una lista errada.\"\n",
    "assert filtrar_paises(lista_paises_prueba) == resultado_prueba, \"Tu función devuelve una lista errada.\"\n",
    "\n",
    "# Mensaje de felicitaciones\n",
    "print(\"Felicidades, realizaste este ejercicio correctamente.\")"
   ]
  }
 ],
 "metadata": {
  "kernelspec": {
   "display_name": "Python 3",
   "language": "python",
   "name": "python3"
  },
  "language_info": {
   "codemirror_mode": {
    "name": "ipython",
    "version": 3
   },
   "file_extension": ".py",
   "mimetype": "text/x-python",
   "name": "python",
   "nbconvert_exporter": "python",
   "pygments_lexer": "ipython3",
   "version": "3.12.1"
  }
 },
 "nbformat": 4,
 "nbformat_minor": 5
}
